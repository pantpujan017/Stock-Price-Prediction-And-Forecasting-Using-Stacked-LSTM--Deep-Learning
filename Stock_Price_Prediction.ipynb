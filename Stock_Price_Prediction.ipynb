{
 "cells": [
  {
   "cell_type": "code",
   "execution_count": 2,
   "id": "8606c6c5-cacc-4586-a616-0b7be64e8cf7",
   "metadata": {},
   "outputs": [
    {
     "name": "stdout",
     "output_type": "stream",
     "text": [
      "Requirement already satisfied: pandas_datareader in c:\\users\\pujan\\anaconda3\\lib\\site-packages (0.10.0)\n",
      "Requirement already satisfied: lxml in c:\\users\\pujan\\anaconda3\\lib\\site-packages (from pandas_datareader) (4.9.1)\n",
      "Requirement already satisfied: pandas>=0.23 in c:\\users\\pujan\\anaconda3\\lib\\site-packages (from pandas_datareader) (2.2.0)\n",
      "Requirement already satisfied: requests>=2.19.0 in c:\\users\\pujan\\anaconda3\\lib\\site-packages (from pandas_datareader) (2.32.3)\n",
      "Requirement already satisfied: numpy<2,>=1.22.4 in c:\\users\\pujan\\anaconda3\\lib\\site-packages (from pandas>=0.23->pandas_datareader) (1.26.3)\n",
      "Requirement already satisfied: tzdata>=2022.7 in c:\\users\\pujan\\anaconda3\\lib\\site-packages (from pandas>=0.23->pandas_datareader) (2023.4)\n",
      "Requirement already satisfied: python-dateutil>=2.8.2 in c:\\users\\pujan\\anaconda3\\lib\\site-packages (from pandas>=0.23->pandas_datareader) (2.8.2)\n",
      "Requirement already satisfied: pytz>=2020.1 in c:\\users\\pujan\\anaconda3\\lib\\site-packages (from pandas>=0.23->pandas_datareader) (2022.7)\n",
      "Requirement already satisfied: urllib3<3,>=1.21.1 in c:\\users\\pujan\\anaconda3\\lib\\site-packages (from requests>=2.19.0->pandas_datareader) (1.26.14)\n",
      "Requirement already satisfied: certifi>=2017.4.17 in c:\\users\\pujan\\anaconda3\\lib\\site-packages (from requests>=2.19.0->pandas_datareader) (2024.2.2)\n",
      "Requirement already satisfied: charset-normalizer<4,>=2 in c:\\users\\pujan\\anaconda3\\lib\\site-packages (from requests>=2.19.0->pandas_datareader) (2.0.4)\n",
      "Requirement already satisfied: idna<4,>=2.5 in c:\\users\\pujan\\anaconda3\\lib\\site-packages (from requests>=2.19.0->pandas_datareader) (3.4)\n",
      "Requirement already satisfied: six>=1.5 in c:\\users\\pujan\\anaconda3\\lib\\site-packages (from python-dateutil>=2.8.2->pandas>=0.23->pandas_datareader) (1.16.0)\n",
      "Note: you may need to restart the kernel to use updated packages.\n"
     ]
    },
    {
     "name": "stderr",
     "output_type": "stream",
     "text": [
      "WARNING: Ignoring invalid distribution -orch (c:\\users\\pujan\\anaconda3\\lib\\site-packages)\n",
      "WARNING: Ignoring invalid distribution -andas (c:\\users\\pujan\\anaconda3\\lib\\site-packages)\n",
      "WARNING: Ignoring invalid distribution -orch (c:\\users\\pujan\\anaconda3\\lib\\site-packages)\n",
      "WARNING: Ignoring invalid distribution -andas (c:\\users\\pujan\\anaconda3\\lib\\site-packages)\n",
      "WARNING: Ignoring invalid distribution -orch (c:\\users\\pujan\\anaconda3\\lib\\site-packages)\n",
      "WARNING: Ignoring invalid distribution -andas (c:\\users\\pujan\\anaconda3\\lib\\site-packages)\n",
      "WARNING: Ignoring invalid distribution -orch (c:\\users\\pujan\\anaconda3\\lib\\site-packages)\n",
      "WARNING: Ignoring invalid distribution -andas (c:\\users\\pujan\\anaconda3\\lib\\site-packages)\n",
      "WARNING: Ignoring invalid distribution -orch (c:\\users\\pujan\\anaconda3\\lib\\site-packages)\n",
      "WARNING: Ignoring invalid distribution -andas (c:\\users\\pujan\\anaconda3\\lib\\site-packages)\n",
      "WARNING: Ignoring invalid distribution -orch (c:\\users\\pujan\\anaconda3\\lib\\site-packages)\n",
      "WARNING: Ignoring invalid distribution -andas (c:\\users\\pujan\\anaconda3\\lib\\site-packages)\n"
     ]
    }
   ],
   "source": [
    "pip install pandas_datareader"
   ]
  },
  {
   "cell_type": "code",
   "execution_count": 3,
   "id": "db0ee1af-2891-45b0-b811-836138a85b7d",
   "metadata": {},
   "outputs": [],
   "source": [
    "import pandas_datareader as pdr"
   ]
  },
  {
   "cell_type": "code",
   "execution_count": 5,
   "id": "192aa0d5-531e-4872-9a95-2a63149a29ff",
   "metadata": {},
   "outputs": [
    {
     "name": "stdout",
     "output_type": "stream",
     "text": [
      "Requirement already satisfied: yfinance in c:\\users\\pujan\\anaconda3\\lib\\site-packages (0.2.41)\n",
      "Requirement already satisfied: frozendict>=2.3.4 in c:\\users\\pujan\\anaconda3\\lib\\site-packages (from yfinance) (2.4.4)\n",
      "Requirement already satisfied: html5lib>=1.1 in c:\\users\\pujan\\anaconda3\\lib\\site-packages (from yfinance) (1.1)\n",
      "Requirement already satisfied: multitasking>=0.0.7 in c:\\users\\pujan\\anaconda3\\lib\\site-packages (from yfinance) (0.0.11)\n",
      "Requirement already satisfied: beautifulsoup4>=4.11.1 in c:\\users\\pujan\\anaconda3\\lib\\site-packages (from yfinance) (4.11.1)\n",
      "Requirement already satisfied: numpy>=1.16.5 in c:\\users\\pujan\\anaconda3\\lib\\site-packages (from yfinance) (1.26.3)\n",
      "Requirement already satisfied: requests>=2.31 in c:\\users\\pujan\\anaconda3\\lib\\site-packages (from yfinance) (2.32.3)\n",
      "Requirement already satisfied: peewee>=3.16.2 in c:\\users\\pujan\\anaconda3\\lib\\site-packages (from yfinance) (3.17.6)\n",
      "Requirement already satisfied: platformdirs>=2.0.0 in c:\\users\\pujan\\anaconda3\\lib\\site-packages (from yfinance) (2.5.2)\n",
      "Requirement already satisfied: lxml>=4.9.1 in c:\\users\\pujan\\anaconda3\\lib\\site-packages (from yfinance) (4.9.1)\n",
      "Requirement already satisfied: pandas>=1.3.0 in c:\\users\\pujan\\anaconda3\\lib\\site-packages (from yfinance) (2.2.0)\n",
      "Requirement already satisfied: pytz>=2022.5 in c:\\users\\pujan\\anaconda3\\lib\\site-packages (from yfinance) (2022.7)\n",
      "Requirement already satisfied: soupsieve>1.2 in c:\\users\\pujan\\anaconda3\\lib\\site-packages (from beautifulsoup4>=4.11.1->yfinance) (2.3.2.post1)\n",
      "Requirement already satisfied: six>=1.9 in c:\\users\\pujan\\anaconda3\\lib\\site-packages (from html5lib>=1.1->yfinance) (1.16.0)\n",
      "Requirement already satisfied: webencodings in c:\\users\\pujan\\anaconda3\\lib\\site-packages (from html5lib>=1.1->yfinance) (0.5.1)\n",
      "Requirement already satisfied: python-dateutil>=2.8.2 in c:\\users\\pujan\\anaconda3\\lib\\site-packages (from pandas>=1.3.0->yfinance) (2.8.2)\n",
      "Requirement already satisfied: tzdata>=2022.7 in c:\\users\\pujan\\anaconda3\\lib\\site-packages (from pandas>=1.3.0->yfinance) (2023.4)\n",
      "Requirement already satisfied: charset-normalizer<4,>=2 in c:\\users\\pujan\\anaconda3\\lib\\site-packages (from requests>=2.31->yfinance) (2.0.4)\n",
      "Requirement already satisfied: certifi>=2017.4.17 in c:\\users\\pujan\\anaconda3\\lib\\site-packages (from requests>=2.31->yfinance) (2024.2.2)\n",
      "Requirement already satisfied: idna<4,>=2.5 in c:\\users\\pujan\\anaconda3\\lib\\site-packages (from requests>=2.31->yfinance) (3.4)\n",
      "Requirement already satisfied: urllib3<3,>=1.21.1 in c:\\users\\pujan\\anaconda3\\lib\\site-packages (from requests>=2.31->yfinance) (1.26.14)\n",
      "Note: you may need to restart the kernel to use updated packages.\n"
     ]
    },
    {
     "name": "stderr",
     "output_type": "stream",
     "text": [
      "WARNING: Ignoring invalid distribution -orch (c:\\users\\pujan\\anaconda3\\lib\\site-packages)\n",
      "WARNING: Ignoring invalid distribution -andas (c:\\users\\pujan\\anaconda3\\lib\\site-packages)\n",
      "WARNING: Ignoring invalid distribution -orch (c:\\users\\pujan\\anaconda3\\lib\\site-packages)\n",
      "WARNING: Ignoring invalid distribution -andas (c:\\users\\pujan\\anaconda3\\lib\\site-packages)\n",
      "WARNING: Ignoring invalid distribution -orch (c:\\users\\pujan\\anaconda3\\lib\\site-packages)\n",
      "WARNING: Ignoring invalid distribution -andas (c:\\users\\pujan\\anaconda3\\lib\\site-packages)\n",
      "WARNING: Ignoring invalid distribution -orch (c:\\users\\pujan\\anaconda3\\lib\\site-packages)\n",
      "WARNING: Ignoring invalid distribution -andas (c:\\users\\pujan\\anaconda3\\lib\\site-packages)\n",
      "WARNING: Ignoring invalid distribution -orch (c:\\users\\pujan\\anaconda3\\lib\\site-packages)\n",
      "WARNING: Ignoring invalid distribution -andas (c:\\users\\pujan\\anaconda3\\lib\\site-packages)\n",
      "WARNING: Ignoring invalid distribution -orch (c:\\users\\pujan\\anaconda3\\lib\\site-packages)\n",
      "WARNING: Ignoring invalid distribution -andas (c:\\users\\pujan\\anaconda3\\lib\\site-packages)\n"
     ]
    }
   ],
   "source": [
    "pip install yfinance"
   ]
  },
  {
   "cell_type": "code",
   "execution_count": 6,
   "id": "6ab1079e-bc75-4b83-a01a-31edb0944fbd",
   "metadata": {},
   "outputs": [
    {
     "name": "stderr",
     "output_type": "stream",
     "text": [
      "[*********************100%%**********************]  1 of 1 completed\n"
     ]
    }
   ],
   "source": [
    "import yfinance as yf\n",
    "\n",
    "df = yf.download('AAPL', start='2020-01-01', end='2025-01-01')\n"
   ]
  },
  {
   "cell_type": "code",
   "execution_count": 7,
   "id": "1d5345f6-fa58-4902-9878-912a837e59fc",
   "metadata": {},
   "outputs": [
    {
     "data": {
      "text/html": [
       "<div>\n",
       "<style scoped>\n",
       "    .dataframe tbody tr th:only-of-type {\n",
       "        vertical-align: middle;\n",
       "    }\n",
       "\n",
       "    .dataframe tbody tr th {\n",
       "        vertical-align: top;\n",
       "    }\n",
       "\n",
       "    .dataframe thead th {\n",
       "        text-align: right;\n",
       "    }\n",
       "</style>\n",
       "<table border=\"1\" class=\"dataframe\">\n",
       "  <thead>\n",
       "    <tr style=\"text-align: right;\">\n",
       "      <th></th>\n",
       "      <th>Open</th>\n",
       "      <th>High</th>\n",
       "      <th>Low</th>\n",
       "      <th>Close</th>\n",
       "      <th>Adj Close</th>\n",
       "      <th>Volume</th>\n",
       "    </tr>\n",
       "    <tr>\n",
       "      <th>Date</th>\n",
       "      <th></th>\n",
       "      <th></th>\n",
       "      <th></th>\n",
       "      <th></th>\n",
       "      <th></th>\n",
       "      <th></th>\n",
       "    </tr>\n",
       "  </thead>\n",
       "  <tbody>\n",
       "    <tr>\n",
       "      <th>2024-08-16</th>\n",
       "      <td>223.919998</td>\n",
       "      <td>226.830002</td>\n",
       "      <td>223.649994</td>\n",
       "      <td>226.050003</td>\n",
       "      <td>226.050003</td>\n",
       "      <td>44340200</td>\n",
       "    </tr>\n",
       "    <tr>\n",
       "      <th>2024-08-19</th>\n",
       "      <td>225.720001</td>\n",
       "      <td>225.990005</td>\n",
       "      <td>223.039993</td>\n",
       "      <td>225.889999</td>\n",
       "      <td>225.889999</td>\n",
       "      <td>40687800</td>\n",
       "    </tr>\n",
       "    <tr>\n",
       "      <th>2024-08-20</th>\n",
       "      <td>225.770004</td>\n",
       "      <td>227.169998</td>\n",
       "      <td>225.449997</td>\n",
       "      <td>226.509995</td>\n",
       "      <td>226.509995</td>\n",
       "      <td>30299000</td>\n",
       "    </tr>\n",
       "    <tr>\n",
       "      <th>2024-08-21</th>\n",
       "      <td>226.520004</td>\n",
       "      <td>227.979996</td>\n",
       "      <td>225.050003</td>\n",
       "      <td>226.399994</td>\n",
       "      <td>226.399994</td>\n",
       "      <td>34765500</td>\n",
       "    </tr>\n",
       "    <tr>\n",
       "      <th>2024-08-22</th>\n",
       "      <td>227.789993</td>\n",
       "      <td>228.339996</td>\n",
       "      <td>223.899994</td>\n",
       "      <td>224.529999</td>\n",
       "      <td>224.529999</td>\n",
       "      <td>43665900</td>\n",
       "    </tr>\n",
       "  </tbody>\n",
       "</table>\n",
       "</div>"
      ],
      "text/plain": [
       "                  Open        High         Low       Close   Adj Close  \\\n",
       "Date                                                                     \n",
       "2024-08-16  223.919998  226.830002  223.649994  226.050003  226.050003   \n",
       "2024-08-19  225.720001  225.990005  223.039993  225.889999  225.889999   \n",
       "2024-08-20  225.770004  227.169998  225.449997  226.509995  226.509995   \n",
       "2024-08-21  226.520004  227.979996  225.050003  226.399994  226.399994   \n",
       "2024-08-22  227.789993  228.339996  223.899994  224.529999  224.529999   \n",
       "\n",
       "              Volume  \n",
       "Date                  \n",
       "2024-08-16  44340200  \n",
       "2024-08-19  40687800  \n",
       "2024-08-20  30299000  \n",
       "2024-08-21  34765500  \n",
       "2024-08-22  43665900  "
      ]
     },
     "execution_count": 7,
     "metadata": {},
     "output_type": "execute_result"
    }
   ],
   "source": [
    "df.tail()"
   ]
  },
  {
   "cell_type": "code",
   "execution_count": 8,
   "id": "46ea5f33-4c26-4b19-8550-5be994f5ba1b",
   "metadata": {},
   "outputs": [],
   "source": [
    "df.to_csv('AAPL.csv')"
   ]
  },
  {
   "cell_type": "code",
   "execution_count": 9,
   "id": "7b9ee28e-8698-450e-81d7-486960e92bd6",
   "metadata": {},
   "outputs": [],
   "source": [
    "import pandas as pd"
   ]
  },
  {
   "cell_type": "code",
   "execution_count": 10,
   "id": "360f3a37-881d-4eae-8cc0-beeaa0fb5a12",
   "metadata": {},
   "outputs": [],
   "source": [
    "df=pd.read_csv('AAPL.csv')"
   ]
  },
  {
   "cell_type": "code",
   "execution_count": 11,
   "id": "9e55d10a-e6ef-4b8f-b5f3-f0433cbac6d8",
   "metadata": {},
   "outputs": [],
   "source": [
    "df1=df.reset_index()['Close']"
   ]
  },
  {
   "cell_type": "code",
   "execution_count": 12,
   "id": "24ff8bd0-b9d5-4141-8163-4ff1a4eb6aec",
   "metadata": {},
   "outputs": [
    {
     "data": {
      "text/plain": [
       "(1168,)"
      ]
     },
     "execution_count": 12,
     "metadata": {},
     "output_type": "execute_result"
    }
   ],
   "source": [
    "df1.shape"
   ]
  },
  {
   "cell_type": "code",
   "execution_count": 13,
   "id": "f0621a25-720a-43eb-9453-491e47fde15b",
   "metadata": {},
   "outputs": [
    {
     "data": {
      "text/plain": [
       "0        75.087502\n",
       "1        74.357498\n",
       "2        74.949997\n",
       "3        74.597504\n",
       "4        75.797501\n",
       "           ...    \n",
       "1163    226.050003\n",
       "1164    225.889999\n",
       "1165    226.509995\n",
       "1166    226.399994\n",
       "1167    224.529999\n",
       "Name: Close, Length: 1168, dtype: float64"
      ]
     },
     "execution_count": 13,
     "metadata": {},
     "output_type": "execute_result"
    }
   ],
   "source": [
    "df1"
   ]
  },
  {
   "cell_type": "code",
   "execution_count": 14,
   "id": "7ca1aadf-40cd-4643-936a-ab04653db784",
   "metadata": {},
   "outputs": [
    {
     "name": "stdout",
     "output_type": "stream",
     "text": [
      "Note: you may need to restart the kernel to use updated packages.\n"
     ]
    },
    {
     "name": "stderr",
     "output_type": "stream",
     "text": [
      "WARNING: Ignoring invalid distribution -orch (c:\\users\\pujan\\anaconda3\\lib\\site-packages)\n",
      "WARNING: Ignoring invalid distribution -andas (c:\\users\\pujan\\anaconda3\\lib\\site-packages)\n",
      "WARNING: Ignoring invalid distribution -orch (c:\\users\\pujan\\anaconda3\\lib\\site-packages)\n",
      "WARNING: Ignoring invalid distribution -andas (c:\\users\\pujan\\anaconda3\\lib\\site-packages)\n",
      "ERROR: Could not find a version that satisfies the requirement matplotlib.pyplot (from versions: none)\n",
      "ERROR: No matching distribution found for matplotlib.pyplot\n",
      "WARNING: Ignoring invalid distribution -orch (c:\\users\\pujan\\anaconda3\\lib\\site-packages)\n",
      "WARNING: Ignoring invalid distribution -andas (c:\\users\\pujan\\anaconda3\\lib\\site-packages)\n",
      "WARNING: Ignoring invalid distribution -orch (c:\\users\\pujan\\anaconda3\\lib\\site-packages)\n",
      "WARNING: Ignoring invalid distribution -andas (c:\\users\\pujan\\anaconda3\\lib\\site-packages)\n",
      "WARNING: Ignoring invalid distribution -orch (c:\\users\\pujan\\anaconda3\\lib\\site-packages)\n",
      "WARNING: Ignoring invalid distribution -andas (c:\\users\\pujan\\anaconda3\\lib\\site-packages)\n"
     ]
    }
   ],
   "source": [
    "pip install matplotlib.pyplot"
   ]
  },
  {
   "cell_type": "code",
   "execution_count": 15,
   "id": "7435341c-cf5e-4128-8578-c9c517218b54",
   "metadata": {},
   "outputs": [
    {
     "data": {
      "text/plain": [
       "[<matplotlib.lines.Line2D at 0x1798f945450>]"
      ]
     },
     "execution_count": 15,
     "metadata": {},
     "output_type": "execute_result"
    },
    {
     "data": {
      "image/png": "[encoded data removed]",
      "text/plain": [
       "<Figure size 640x480 with 1 Axes>"
      ]
     },
     "metadata": {},
     "output_type": "display_data"
    }
   ],
   "source": [
    "import matplotlib.pyplot as plt\n",
    "plt.plot(df1)"
   ]
  },
  {
   "cell_type": "code",
   "execution_count": 16,
   "id": "99765aaf-62a5-44b5-8cc2-707fd2e75bac",
   "metadata": {},
   "outputs": [],
   "source": [
    "import numpy as np"
   ]
  },
  {
   "cell_type": "code",
   "execution_count": 17,
   "id": "bce4b2c9-c1ec-4a8e-b3e2-923adef56ec5",
   "metadata": {},
   "outputs": [],
   "source": [
    "from sklearn.preprocessing import MinMaxScaler\n",
    "scaler=MinMaxScaler(feature_range=(0,1))\n",
    "df1=scaler.fit_transform(np.array(df1).reshape(-1,1))"
   ]
  },
  {
   "cell_type": "code",
   "execution_count": 18,
   "id": "930eaba9-e50e-480a-aaf8-d2859c706865",
   "metadata": {},
   "outputs": [
    {
     "data": {
      "text/plain": [
       "array([[0.10627912],\n",
       "       [0.10219467],\n",
       "       [0.10550977],\n",
       "       ...,\n",
       "       [0.95350457],\n",
       "       [0.9528891 ],\n",
       "       [0.94242627]])"
      ]
     },
     "execution_count": 18,
     "metadata": {},
     "output_type": "execute_result"
    }
   ],
   "source": [
    "df1"
   ]
  },
  {
   "cell_type": "code",
   "execution_count": 20,
   "id": "ea45c72c-bd10-4dc2-a4d2-494200f1f421",
   "metadata": {},
   "outputs": [],
   "source": [
    "training_size=int(len(df1)*0.65)\n",
    "test_size=len(df1)-training_size\n",
    "train_data,test_data=df1[0:training_size,:],df1[training_size:len(df1),:1]"
   ]
  },
  {
   "cell_type": "code",
   "execution_count": 22,
   "id": "0bec805d-e25c-434d-8b2e-4a20d4803a9e",
   "metadata": {},
   "outputs": [
    {
     "data": {
      "text/plain": [
       "(759, 409)"
      ]
     },
     "execution_count": 22,
     "metadata": {},
     "output_type": "execute_result"
    }
   ],
   "source": [
    "training_size,test_size"
   ]
  },
  {
   "cell_type": "code",
   "execution_count": 35,
   "id": "9bee80ca-87fb-4b79-adb9-fcac8647bdc6",
   "metadata": {},
   "outputs": [],
   "source": [
    "import numpy\n",
    "\n",
    "def create_dataset(dataset,time_step=1):\n",
    "    dataX, dataY=[],[]\n",
    "    for i in range(len(dataset)-time_step-1):\n",
    "        a=dataset[i:(i+time_step),0]\n",
    "        dataX.append(a)\n",
    "        dataY.append(dataset[i+time_step,0])\n",
    "    return numpy.array(dataX),numpy.array(dataY)\n",
    "        \n"
   ]
  },
  {
   "cell_type": "code",
   "execution_count": 37,
   "id": "339e43be-51eb-40db-9e52-a98d7029380c",
   "metadata": {},
   "outputs": [],
   "source": [
    "time_step=100\n",
    "x_train,y_train=create_dataset(train_data,time_step)\n",
    "x_test,y_test=create_dataset(test_data,time_step)"
   ]
  },
  {
   "cell_type": "code",
   "execution_count": 43,
   "id": "229e9a76-81aa-49f7-b288-c02d1c5d0452",
   "metadata": {},
   "outputs": [
    {
     "name": "stdout",
     "output_type": "stream",
     "text": [
      "(658, 100)\n",
      "(658,)\n"
     ]
    },
    {
     "data": {
      "text/plain": [
       "(None, None)"
      ]
     },
     "execution_count": 43,
     "metadata": {},
     "output_type": "execute_result"
    }
   ],
   "source": [
    "print(x_train.shape),print(y_train.shape)"
   ]
  },
  {
   "cell_type": "code",
   "execution_count": 45,
   "id": "9f7b043a-9c9a-43b1-9056-37494b8665a0",
   "metadata": {},
   "outputs": [],
   "source": [
    "x_train=x_train.reshape(x_train.shape[0],x_train.shape[1],1)\n",
    "x_test=x_test.reshape(x_test.shape[0],x_test.shape[1],1)"
   ]
  },
  {
   "cell_type": "code",
   "execution_count": 47,
   "id": "6c05fb66-3b32-4f2f-9c11-80e1a748bc75",
   "metadata": {},
   "outputs": [],
   "source": [
    "from tensorflow.keras.models import Sequential\n",
    "from tensorflow.keras.layers import Dense\n",
    "from tensorflow.keras.layers import LSTM"
   ]
  },
  {
   "cell_type": "code",
   "execution_count": 49,
   "id": "a37f74b8-3bc5-48a8-8dd0-2db638235d64",
   "metadata": {},
   "outputs": [
    {
     "name": "stderr",
     "output_type": "stream",
     "text": [
      "C:\\Users\\Pujan\\anaconda3\\lib\\site-packages\\keras\\src\\layers\\rnn\\rnn.py:204: UserWarning: Do not pass an `input_shape`/`input_dim` argument to a layer. When using Sequential models, prefer using an `Input(shape)` object as the first layer in the model instead.\n",
      "  super().__init__(**kwargs)\n"
     ]
    }
   ],
   "source": [
    "model=Sequential()\n",
    "model.add(LSTM(50,return_sequences=True,input_shape=(100,1)))\n",
    "model.add(LSTM(50,return_sequences=True))\n",
    "model.add(LSTM(50))\n",
    "model.add(Dense(1))\n",
    "model.compile(loss='mean_squared_error',optimizer='adam')"
   ]
  },
  {
   "cell_type": "code",
   "execution_count": 51,
   "id": "f6f02f97-4e7f-4588-aeae-9f07c2b03be9",
   "metadata": {},
   "outputs": [
    {
     "data": {
      "text/html": [
       "<pre style=\"white-space:pre;overflow-x:auto;line-height:normal;font-family:Menlo,'DejaVu Sans Mono',consolas,'Courier New',monospace\"><span style=\"font-weight: bold\">Model: \"sequential\"</span>\n",
       "</pre>\n"
      ],
      "text/plain": [
       "\u001b[1mModel: \"sequential\"\u001b[0m\n"
      ]
     },
     "metadata": {},
     "output_type": "display_data"
    },
    {
     "data": {
      "text/html": [
       "<pre style=\"white-space:pre;overflow-x:auto;line-height:normal;font-family:Menlo,'DejaVu Sans Mono',consolas,'Courier New',monospace\">┏━━━━━━━━━━━━━━━━━━━━━━━━━━━━━━━━━┳━━━━━━━━━━━━━━━━━━━━━━━━┳━━━━━━━━━━━━━━━┓\n",
       "┃<span style=\"font-weight: bold\"> Layer (type)                    </span>┃<span style=\"font-weight: bold\"> Output Shape           </span>┃<span style=\"font-weight: bold\">       Param # </span>┃\n",
       "┡━━━━━━━━━━━━━━━━━━━━━━━━━━━━━━━━━╇━━━━━━━━━━━━━━━━━━━━━━━━╇━━━━━━━━━━━━━━━┩\n",
       "│ lstm (<span style=\"color: #0087ff; text-decoration-color: #0087ff\">LSTM</span>)                     │ (<span style=\"color: #00d7ff; text-decoration-color: #00d7ff\">None</span>, <span style=\"color: #00af00; text-decoration-color: #00af00\">100</span>, <span style=\"color: #00af00; text-decoration-color: #00af00\">50</span>)        │        <span style=\"color: #00af00; text-decoration-color: #00af00\">10,400</span> │\n",
       "├─────────────────────────────────┼────────────────────────┼───────────────┤\n",
       "│ lstm_1 (<span style=\"color: #0087ff; text-decoration-color: #0087ff\">LSTM</span>)                   │ (<span style=\"color: #00d7ff; text-decoration-color: #00d7ff\">None</span>, <span style=\"color: #00af00; text-decoration-color: #00af00\">100</span>, <span style=\"color: #00af00; text-decoration-color: #00af00\">50</span>)        │        <span style=\"color: #00af00; text-decoration-color: #00af00\">20,200</span> │\n",
       "├─────────────────────────────────┼────────────────────────┼───────────────┤\n",
       "│ lstm_2 (<span style=\"color: #0087ff; text-decoration-color: #0087ff\">LSTM</span>)                   │ (<span style=\"color: #00d7ff; text-decoration-color: #00d7ff\">None</span>, <span style=\"color: #00af00; text-decoration-color: #00af00\">50</span>)             │        <span style=\"color: #00af00; text-decoration-color: #00af00\">20,200</span> │\n",
       "├─────────────────────────────────┼────────────────────────┼───────────────┤\n",
       "│ dense (<span style=\"color: #0087ff; text-decoration-color: #0087ff\">Dense</span>)                   │ (<span style=\"color: #00d7ff; text-decoration-color: #00d7ff\">None</span>, <span style=\"color: #00af00; text-decoration-color: #00af00\">1</span>)              │            <span style=\"color: #00af00; text-decoration-color: #00af00\">51</span> │\n",
       "└─────────────────────────────────┴────────────────────────┴───────────────┘\n",
       "</pre>\n"
      ],
      "text/plain": [
       "┏━━━━━━━━━━━━━━━━━━━━━━━━━━━━━━━━━┳━━━━━━━━━━━━━━━━━━━━━━━━┳━━━━━━━━━━━━━━━┓\n",
       "┃\u001b[1m \u001b[0m\u001b[1mLayer (type)                   \u001b[0m\u001b[1m \u001b[0m┃\u001b[1m \u001b[0m\u001b[1mOutput Shape          \u001b[0m\u001b[1m \u001b[0m┃\u001b[1m \u001b[0m\u001b[1m      Param #\u001b[0m\u001b[1m \u001b[0m┃\n",
       "┡━━━━━━━━━━━━━━━━━━━━━━━━━━━━━━━━━╇━━━━━━━━━━━━━━━━━━━━━━━━╇━━━━━━━━━━━━━━━┩\n",
       "│ lstm (\u001b[38;5;33mLSTM\u001b[0m)                     │ (\u001b[38;5;45mNone\u001b[0m, \u001b[38;5;34m100\u001b[0m, \u001b[38;5;34m50\u001b[0m)        │        \u001b[38;5;34m10,400\u001b[0m │\n",
       "├─────────────────────────────────┼────────────────────────┼───────────────┤\n",
       "│ lstm_1 (\u001b[38;5;33mLSTM\u001b[0m)                   │ (\u001b[38;5;45mNone\u001b[0m, \u001b[38;5;34m100\u001b[0m, \u001b[38;5;34m50\u001b[0m)        │        \u001b[38;5;34m20,200\u001b[0m │\n",
       "├─────────────────────────────────┼────────────────────────┼───────────────┤\n",
       "│ lstm_2 (\u001b[38;5;33mLSTM\u001b[0m)                   │ (\u001b[38;5;45mNone\u001b[0m, \u001b[38;5;34m50\u001b[0m)             │        \u001b[38;5;34m20,200\u001b[0m │\n",
       "├─────────────────────────────────┼────────────────────────┼───────────────┤\n",
       "│ dense (\u001b[38;5;33mDense\u001b[0m)                   │ (\u001b[38;5;45mNone\u001b[0m, \u001b[38;5;34m1\u001b[0m)              │            \u001b[38;5;34m51\u001b[0m │\n",
       "└─────────────────────────────────┴────────────────────────┴───────────────┘\n"
      ]
     },
     "metadata": {},
     "output_type": "display_data"
    },
    {
     "data": {
      "text/html": [
       "<pre style=\"white-space:pre;overflow-x:auto;line-height:normal;font-family:Menlo,'DejaVu Sans Mono',consolas,'Courier New',monospace\"><span style=\"font-weight: bold\"> Total params: </span><span style=\"color: #00af00; text-decoration-color: #00af00\">50,851</span> (198.64 KB)\n",
       "</pre>\n"
      ],
      "text/plain": [
       "\u001b[1m Total params: \u001b[0m\u001b[38;5;34m50,851\u001b[0m (198.64 KB)\n"
      ]
     },
     "metadata": {},
     "output_type": "display_data"
    },
    {
     "data": {
      "text/html": [
       "<pre style=\"white-space:pre;overflow-x:auto;line-height:normal;font-family:Menlo,'DejaVu Sans Mono',consolas,'Courier New',monospace\"><span style=\"font-weight: bold\"> Trainable params: </span><span style=\"color: #00af00; text-decoration-color: #00af00\">50,851</span> (198.64 KB)\n",
       "</pre>\n"
      ],
      "text/plain": [
       "\u001b[1m Trainable params: \u001b[0m\u001b[38;5;34m50,851\u001b[0m (198.64 KB)\n"
      ]
     },
     "metadata": {},
     "output_type": "display_data"
    },
    {
     "data": {
      "text/html": [
       "<pre style=\"white-space:pre;overflow-x:auto;line-height:normal;font-family:Menlo,'DejaVu Sans Mono',consolas,'Courier New',monospace\"><span style=\"font-weight: bold\"> Non-trainable params: </span><span style=\"color: #00af00; text-decoration-color: #00af00\">0</span> (0.00 B)\n",
       "</pre>\n"
      ],
      "text/plain": [
       "\u001b[1m Non-trainable params: \u001b[0m\u001b[38;5;34m0\u001b[0m (0.00 B)\n"
      ]
     },
     "metadata": {},
     "output_type": "display_data"
    }
   ],
   "source": [
    "model.summary()"
   ]
  },
  {
   "cell_type": "code",
   "execution_count": 53,
   "id": "4805c77f-02eb-4c55-8b7e-1d67894bcfe6",
   "metadata": {},
   "outputs": [
    {
     "name": "stdout",
     "output_type": "stream",
     "text": [
      "Epoch 1/100\n",
      "\u001b[1m11/11\u001b[0m \u001b[32m━━━━━━━━━━━━━━━━━━━━\u001b[0m\u001b[37m\u001b[0m \u001b[1m10s\u001b[0m 248ms/step - loss: 0.1346 - val_loss: 0.0175\n",
      "Epoch 2/100\n",
      "\u001b[1m11/11\u001b[0m \u001b[32m━━━━━━━━━━━━━━━━━━━━\u001b[0m\u001b[37m\u001b[0m \u001b[1m4s\u001b[0m 184ms/step - loss: 0.0090 - val_loss: 0.0130\n",
      "Epoch 3/100\n",
      "\u001b[1m11/11\u001b[0m \u001b[32m━━━━━━━━━━━━━━━━━━━━\u001b[0m\u001b[37m\u001b[0m \u001b[1m2s\u001b[0m 150ms/step - loss: 0.0046 - val_loss: 0.0273\n",
      "Epoch 4/100\n",
      "\u001b[1m11/11\u001b[0m \u001b[32m━━━━━━━━━━━━━━━━━━━━\u001b[0m\u001b[37m\u001b[0m \u001b[1m2s\u001b[0m 142ms/step - loss: 0.0037 - val_loss: 0.0101\n",
      "Epoch 5/100\n",
      "\u001b[1m11/11\u001b[0m \u001b[32m━━━━━━━━━━━━━━━━━━━━\u001b[0m\u001b[37m\u001b[0m \u001b[1m2s\u001b[0m 142ms/step - loss: 0.0030 - val_loss: 0.0128\n",
      "Epoch 6/100\n",
      "\u001b[1m11/11\u001b[0m \u001b[32m━━━━━━━━━━━━━━━━━━━━\u001b[0m\u001b[37m\u001b[0m \u001b[1m2s\u001b[0m 148ms/step - loss: 0.0024 - val_loss: 0.0126\n",
      "Epoch 7/100\n",
      "\u001b[1m11/11\u001b[0m \u001b[32m━━━━━━━━━━━━━━━━━━━━\u001b[0m\u001b[37m\u001b[0m \u001b[1m2s\u001b[0m 146ms/step - loss: 0.0022 - val_loss: 0.0071\n",
      "Epoch 8/100\n",
      "\u001b[1m11/11\u001b[0m \u001b[32m━━━━━━━━━━━━━━━━━━━━\u001b[0m\u001b[37m\u001b[0m \u001b[1m2s\u001b[0m 223ms/step - loss: 0.0019 - val_loss: 0.0056\n",
      "Epoch 9/100\n",
      "\u001b[1m11/11\u001b[0m \u001b[32m━━━━━━━━━━━━━━━━━━━━\u001b[0m\u001b[37m\u001b[0m \u001b[1m2s\u001b[0m 170ms/step - loss: 0.0018 - val_loss: 0.0048\n",
      "Epoch 10/100\n",
      "\u001b[1m11/11\u001b[0m \u001b[32m━━━━━━━━━━━━━━━━━━━━\u001b[0m\u001b[37m\u001b[0m \u001b[1m2s\u001b[0m 176ms/step - loss: 0.0017 - val_loss: 0.0039\n",
      "Epoch 11/100\n",
      "\u001b[1m11/11\u001b[0m \u001b[32m━━━━━━━━━━━━━━━━━━━━\u001b[0m\u001b[37m\u001b[0m \u001b[1m3s\u001b[0m 194ms/step - loss: 0.0016 - val_loss: 0.0033\n",
      "Epoch 12/100\n",
      "\u001b[1m11/11\u001b[0m \u001b[32m━━━━━━━━━━━━━━━━━━━━\u001b[0m\u001b[37m\u001b[0m \u001b[1m2s\u001b[0m 166ms/step - loss: 0.0017 - val_loss: 0.0041\n",
      "Epoch 13/100\n",
      "\u001b[1m11/11\u001b[0m \u001b[32m━━━━━━━━━━━━━━━━━━━━\u001b[0m\u001b[37m\u001b[0m \u001b[1m2s\u001b[0m 176ms/step - loss: 0.0017 - val_loss: 0.0043\n",
      "Epoch 14/100\n",
      "\u001b[1m11/11\u001b[0m \u001b[32m━━━━━━━━━━━━━━━━━━━━\u001b[0m\u001b[37m\u001b[0m \u001b[1m2s\u001b[0m 165ms/step - loss: 0.0015 - val_loss: 0.0048\n",
      "Epoch 15/100\n",
      "\u001b[1m11/11\u001b[0m \u001b[32m━━━━━━━━━━━━━━━━━━━━\u001b[0m\u001b[37m\u001b[0m \u001b[1m2s\u001b[0m 196ms/step - loss: 0.0017 - val_loss: 0.0040\n",
      "Epoch 16/100\n",
      "\u001b[1m11/11\u001b[0m \u001b[32m━━━━━━━━━━━━━━━━━━━━\u001b[0m\u001b[37m\u001b[0m \u001b[1m3s\u001b[0m 179ms/step - loss: 0.0015 - val_loss: 0.0047\n",
      "Epoch 17/100\n",
      "\u001b[1m11/11\u001b[0m \u001b[32m━━━━━━━━━━━━━━━━━━━━\u001b[0m\u001b[37m\u001b[0m \u001b[1m3s\u001b[0m 173ms/step - loss: 0.0015 - val_loss: 0.0035\n",
      "Epoch 18/100\n",
      "\u001b[1m11/11\u001b[0m \u001b[32m━━━━━━━━━━━━━━━━━━━━\u001b[0m\u001b[37m\u001b[0m \u001b[1m2s\u001b[0m 153ms/step - loss: 0.0016 - val_loss: 0.0046\n",
      "Epoch 19/100\n",
      "\u001b[1m11/11\u001b[0m \u001b[32m━━━━━━━━━━━━━━━━━━━━\u001b[0m\u001b[37m\u001b[0m \u001b[1m2s\u001b[0m 152ms/step - loss: 0.0016 - val_loss: 0.0054\n",
      "Epoch 20/100\n",
      "\u001b[1m11/11\u001b[0m \u001b[32m━━━━━━━━━━━━━━━━━━━━\u001b[0m\u001b[37m\u001b[0m \u001b[1m2s\u001b[0m 175ms/step - loss: 0.0016 - val_loss: 0.0034\n",
      "Epoch 21/100\n",
      "\u001b[1m11/11\u001b[0m \u001b[32m━━━━━━━━━━━━━━━━━━━━\u001b[0m\u001b[37m\u001b[0m \u001b[1m3s\u001b[0m 154ms/step - loss: 0.0015 - val_loss: 0.0017\n",
      "Epoch 22/100\n",
      "\u001b[1m11/11\u001b[0m \u001b[32m━━━━━━━━━━━━━━━━━━━━\u001b[0m\u001b[37m\u001b[0m \u001b[1m2s\u001b[0m 184ms/step - loss: 0.0016 - val_loss: 0.0022\n",
      "Epoch 23/100\n",
      "\u001b[1m11/11\u001b[0m \u001b[32m━━━━━━━━━━━━━━━━━━━━\u001b[0m\u001b[37m\u001b[0m \u001b[1m2s\u001b[0m 149ms/step - loss: 0.0014 - val_loss: 0.0049\n",
      "Epoch 24/100\n",
      "\u001b[1m11/11\u001b[0m \u001b[32m━━━━━━━━━━━━━━━━━━━━\u001b[0m\u001b[37m\u001b[0m \u001b[1m2s\u001b[0m 149ms/step - loss: 0.0014 - val_loss: 0.0030\n",
      "Epoch 25/100\n",
      "\u001b[1m11/11\u001b[0m \u001b[32m━━━━━━━━━━━━━━━━━━━━\u001b[0m\u001b[37m\u001b[0m \u001b[1m3s\u001b[0m 199ms/step - loss: 0.0014 - val_loss: 0.0021\n",
      "Epoch 26/100\n",
      "\u001b[1m11/11\u001b[0m \u001b[32m━━━━━━━━━━━━━━━━━━━━\u001b[0m\u001b[37m\u001b[0m \u001b[1m2s\u001b[0m 150ms/step - loss: 0.0013 - val_loss: 0.0033\n",
      "Epoch 27/100\n",
      "\u001b[1m11/11\u001b[0m \u001b[32m━━━━━━━━━━━━━━━━━━━━\u001b[0m\u001b[37m\u001b[0m \u001b[1m2s\u001b[0m 195ms/step - loss: 0.0013 - val_loss: 0.0022\n",
      "Epoch 28/100\n",
      "\u001b[1m11/11\u001b[0m \u001b[32m━━━━━━━━━━━━━━━━━━━━\u001b[0m\u001b[37m\u001b[0m \u001b[1m2s\u001b[0m 169ms/step - loss: 0.0012 - val_loss: 0.0031\n",
      "Epoch 29/100\n",
      "\u001b[1m11/11\u001b[0m \u001b[32m━━━━━━━━━━━━━━━━━━━━\u001b[0m\u001b[37m\u001b[0m \u001b[1m2s\u001b[0m 142ms/step - loss: 0.0012 - val_loss: 0.0024\n",
      "Epoch 30/100\n",
      "\u001b[1m11/11\u001b[0m \u001b[32m━━━━━━━━━━━━━━━━━━━━\u001b[0m\u001b[37m\u001b[0m \u001b[1m3s\u001b[0m 204ms/step - loss: 0.0013 - val_loss: 0.0029\n",
      "Epoch 31/100\n",
      "\u001b[1m11/11\u001b[0m \u001b[32m━━━━━━━━━━━━━━━━━━━━\u001b[0m\u001b[37m\u001b[0m \u001b[1m2s\u001b[0m 140ms/step - loss: 0.0011 - val_loss: 0.0033\n",
      "Epoch 32/100\n",
      "\u001b[1m11/11\u001b[0m \u001b[32m━━━━━━━━━━━━━━━━━━━━\u001b[0m\u001b[37m\u001b[0m \u001b[1m2s\u001b[0m 152ms/step - loss: 0.0011 - val_loss: 0.0035\n",
      "Epoch 33/100\n",
      "\u001b[1m11/11\u001b[0m \u001b[32m━━━━━━━━━━━━━━━━━━━━\u001b[0m\u001b[37m\u001b[0m \u001b[1m2s\u001b[0m 137ms/step - loss: 0.0012 - val_loss: 0.0045\n",
      "Epoch 34/100\n",
      "\u001b[1m11/11\u001b[0m \u001b[32m━━━━━━━━━━━━━━━━━━━━\u001b[0m\u001b[37m\u001b[0m \u001b[1m2s\u001b[0m 157ms/step - loss: 0.0012 - val_loss: 0.0022\n",
      "Epoch 35/100\n",
      "\u001b[1m11/11\u001b[0m \u001b[32m━━━━━━━━━━━━━━━━━━━━\u001b[0m\u001b[37m\u001b[0m \u001b[1m2s\u001b[0m 146ms/step - loss: 0.0011 - val_loss: 0.0033\n",
      "Epoch 36/100\n",
      "\u001b[1m11/11\u001b[0m \u001b[32m━━━━━━━━━━━━━━━━━━━━\u001b[0m\u001b[37m\u001b[0m \u001b[1m3s\u001b[0m 136ms/step - loss: 9.7356e-04 - val_loss: 0.0019\n",
      "Epoch 37/100\n",
      "\u001b[1m11/11\u001b[0m \u001b[32m━━━━━━━━━━━━━━━━━━━━\u001b[0m\u001b[37m\u001b[0m \u001b[1m2s\u001b[0m 152ms/step - loss: 0.0012 - val_loss: 0.0035\n",
      "Epoch 38/100\n",
      "\u001b[1m11/11\u001b[0m \u001b[32m━━━━━━━━━━━━━━━━━━━━\u001b[0m\u001b[37m\u001b[0m \u001b[1m2s\u001b[0m 138ms/step - loss: 0.0011 - val_loss: 0.0023\n",
      "Epoch 39/100\n",
      "\u001b[1m11/11\u001b[0m \u001b[32m━━━━━━━━━━━━━━━━━━━━\u001b[0m\u001b[37m\u001b[0m \u001b[1m3s\u001b[0m 155ms/step - loss: 0.0011 - val_loss: 0.0055\n",
      "Epoch 40/100\n",
      "\u001b[1m11/11\u001b[0m \u001b[32m━━━━━━━━━━━━━━━━━━━━\u001b[0m\u001b[37m\u001b[0m \u001b[1m3s\u001b[0m 148ms/step - loss: 0.0013 - val_loss: 0.0022\n",
      "Epoch 41/100\n",
      "\u001b[1m11/11\u001b[0m \u001b[32m━━━━━━━━━━━━━━━━━━━━\u001b[0m\u001b[37m\u001b[0m \u001b[1m2s\u001b[0m 152ms/step - loss: 0.0011 - val_loss: 0.0040\n",
      "Epoch 42/100\n",
      "\u001b[1m11/11\u001b[0m \u001b[32m━━━━━━━━━━━━━━━━━━━━\u001b[0m\u001b[37m\u001b[0m \u001b[1m1s\u001b[0m 133ms/step - loss: 0.0011 - val_loss: 0.0014\n",
      "Epoch 43/100\n",
      "\u001b[1m11/11\u001b[0m \u001b[32m━━━━━━━━━━━━━━━━━━━━\u001b[0m\u001b[37m\u001b[0m \u001b[1m1s\u001b[0m 132ms/step - loss: 0.0011 - val_loss: 0.0022\n",
      "Epoch 44/100\n",
      "\u001b[1m11/11\u001b[0m \u001b[32m━━━━━━━━━━━━━━━━━━━━\u001b[0m\u001b[37m\u001b[0m \u001b[1m3s\u001b[0m 132ms/step - loss: 9.5099e-04 - val_loss: 0.0019\n",
      "Epoch 45/100\n",
      "\u001b[1m11/11\u001b[0m \u001b[32m━━━━━━━━━━━━━━━━━━━━\u001b[0m\u001b[37m\u001b[0m \u001b[1m3s\u001b[0m 145ms/step - loss: 9.4202e-04 - val_loss: 0.0017\n",
      "Epoch 46/100\n",
      "\u001b[1m11/11\u001b[0m \u001b[32m━━━━━━━━━━━━━━━━━━━━\u001b[0m\u001b[37m\u001b[0m \u001b[1m1s\u001b[0m 133ms/step - loss: 0.0010 - val_loss: 0.0015\n",
      "Epoch 47/100\n",
      "\u001b[1m11/11\u001b[0m \u001b[32m━━━━━━━━━━━━━━━━━━━━\u001b[0m\u001b[37m\u001b[0m \u001b[1m2s\u001b[0m 133ms/step - loss: 0.0010 - val_loss: 0.0018\n",
      "Epoch 48/100\n",
      "\u001b[1m11/11\u001b[0m \u001b[32m━━━━━━━━━━━━━━━━━━━━\u001b[0m\u001b[37m\u001b[0m \u001b[1m2s\u001b[0m 149ms/step - loss: 9.0664e-04 - val_loss: 0.0029\n",
      "Epoch 49/100\n",
      "\u001b[1m11/11\u001b[0m \u001b[32m━━━━━━━━━━━━━━━━━━━━\u001b[0m\u001b[37m\u001b[0m \u001b[1m2s\u001b[0m 146ms/step - loss: 9.5657e-04 - val_loss: 0.0014\n",
      "Epoch 50/100\n",
      "\u001b[1m11/11\u001b[0m \u001b[32m━━━━━━━━━━━━━━━━━━━━\u001b[0m\u001b[37m\u001b[0m \u001b[1m2s\u001b[0m 149ms/step - loss: 0.0011 - val_loss: 0.0019\n",
      "Epoch 51/100\n",
      "\u001b[1m11/11\u001b[0m \u001b[32m━━━━━━━━━━━━━━━━━━━━\u001b[0m\u001b[37m\u001b[0m \u001b[1m2s\u001b[0m 118ms/step - loss: 9.9164e-04 - val_loss: 0.0026\n",
      "Epoch 52/100\n",
      "\u001b[1m11/11\u001b[0m \u001b[32m━━━━━━━━━━━━━━━━━━━━\u001b[0m\u001b[37m\u001b[0m \u001b[1m3s\u001b[0m 132ms/step - loss: 9.6471e-04 - val_loss: 0.0019\n",
      "Epoch 53/100\n",
      "\u001b[1m11/11\u001b[0m \u001b[32m━━━━━━━━━━━━━━━━━━━━\u001b[0m\u001b[37m\u001b[0m \u001b[1m2s\u001b[0m 167ms/step - loss: 8.9979e-04 - val_loss: 0.0021\n",
      "Epoch 54/100\n",
      "\u001b[1m11/11\u001b[0m \u001b[32m━━━━━━━━━━━━━━━━━━━━\u001b[0m\u001b[37m\u001b[0m \u001b[1m2s\u001b[0m 131ms/step - loss: 8.7490e-04 - val_loss: 0.0019\n",
      "Epoch 55/100\n",
      "\u001b[1m11/11\u001b[0m \u001b[32m━━━━━━━━━━━━━━━━━━━━\u001b[0m\u001b[37m\u001b[0m \u001b[1m3s\u001b[0m 142ms/step - loss: 9.5327e-04 - val_loss: 0.0024\n",
      "Epoch 56/100\n",
      "\u001b[1m11/11\u001b[0m \u001b[32m━━━━━━━━━━━━━━━━━━━━\u001b[0m\u001b[37m\u001b[0m \u001b[1m3s\u001b[0m 129ms/step - loss: 9.0493e-04 - val_loss: 9.9413e-04\n",
      "Epoch 57/100\n",
      "\u001b[1m11/11\u001b[0m \u001b[32m━━━━━━━━━━━━━━━━━━━━\u001b[0m\u001b[37m\u001b[0m \u001b[1m1s\u001b[0m 125ms/step - loss: 9.8092e-04 - val_loss: 0.0032\n",
      "Epoch 58/100\n",
      "\u001b[1m11/11\u001b[0m \u001b[32m━━━━━━━━━━━━━━━━━━━━\u001b[0m\u001b[37m\u001b[0m \u001b[1m1s\u001b[0m 127ms/step - loss: 8.4560e-04 - val_loss: 0.0013\n",
      "Epoch 59/100\n",
      "\u001b[1m11/11\u001b[0m \u001b[32m━━━━━━━━━━━━━━━━━━━━\u001b[0m\u001b[37m\u001b[0m \u001b[1m1s\u001b[0m 126ms/step - loss: 7.5459e-04 - val_loss: 0.0020\n",
      "Epoch 60/100\n",
      "\u001b[1m11/11\u001b[0m \u001b[32m━━━━━━━━━━━━━━━━━━━━\u001b[0m\u001b[37m\u001b[0m \u001b[1m1s\u001b[0m 129ms/step - loss: 8.2302e-04 - val_loss: 0.0015\n",
      "Epoch 61/100\n",
      "\u001b[1m11/11\u001b[0m \u001b[32m━━━━━━━━━━━━━━━━━━━━\u001b[0m\u001b[37m\u001b[0m \u001b[1m2s\u001b[0m 139ms/step - loss: 8.1991e-04 - val_loss: 9.1585e-04\n",
      "Epoch 62/100\n",
      "\u001b[1m11/11\u001b[0m \u001b[32m━━━━━━━━━━━━━━━━━━━━\u001b[0m\u001b[37m\u001b[0m \u001b[1m2s\u001b[0m 154ms/step - loss: 8.9233e-04 - val_loss: 0.0027\n",
      "Epoch 63/100\n",
      "\u001b[1m11/11\u001b[0m \u001b[32m━━━━━━━━━━━━━━━━━━━━\u001b[0m\u001b[37m\u001b[0m \u001b[1m3s\u001b[0m 147ms/step - loss: 0.0010 - val_loss: 8.9740e-04\n",
      "Epoch 64/100\n",
      "\u001b[1m11/11\u001b[0m \u001b[32m━━━━━━━━━━━━━━━━━━━━\u001b[0m\u001b[37m\u001b[0m \u001b[1m2s\u001b[0m 135ms/step - loss: 9.9710e-04 - val_loss: 0.0010\n",
      "Epoch 65/100\n",
      "\u001b[1m11/11\u001b[0m \u001b[32m━━━━━━━━━━━━━━━━━━━━\u001b[0m\u001b[37m\u001b[0m \u001b[1m3s\u001b[0m 132ms/step - loss: 0.0011 - val_loss: 0.0016\n",
      "Epoch 66/100\n",
      "\u001b[1m11/11\u001b[0m \u001b[32m━━━━━━━━━━━━━━━━━━━━\u001b[0m\u001b[37m\u001b[0m \u001b[1m1s\u001b[0m 123ms/step - loss: 8.5426e-04 - val_loss: 0.0012\n",
      "Epoch 67/100\n",
      "\u001b[1m11/11\u001b[0m \u001b[32m━━━━━━━━━━━━━━━━━━━━\u001b[0m\u001b[37m\u001b[0m \u001b[1m2s\u001b[0m 140ms/step - loss: 8.2217e-04 - val_loss: 8.1826e-04\n",
      "Epoch 68/100\n",
      "\u001b[1m11/11\u001b[0m \u001b[32m━━━━━━━━━━━━━━━━━━━━\u001b[0m\u001b[37m\u001b[0m \u001b[1m1s\u001b[0m 129ms/step - loss: 9.1144e-04 - val_loss: 8.4245e-04\n",
      "Epoch 69/100\n",
      "\u001b[1m11/11\u001b[0m \u001b[32m━━━━━━━━━━━━━━━━━━━━\u001b[0m\u001b[37m\u001b[0m \u001b[1m1s\u001b[0m 134ms/step - loss: 8.5296e-04 - val_loss: 0.0016\n",
      "Epoch 70/100\n",
      "\u001b[1m11/11\u001b[0m \u001b[32m━━━━━━━━━━━━━━━━━━━━\u001b[0m\u001b[37m\u001b[0m \u001b[1m2s\u001b[0m 154ms/step - loss: 7.1107e-04 - val_loss: 7.7069e-04\n",
      "Epoch 71/100\n",
      "\u001b[1m11/11\u001b[0m \u001b[32m━━━━━━━━━━━━━━━━━━━━\u001b[0m\u001b[37m\u001b[0m \u001b[1m2s\u001b[0m 132ms/step - loss: 7.3998e-04 - val_loss: 0.0016\n",
      "Epoch 72/100\n",
      "\u001b[1m11/11\u001b[0m \u001b[32m━━━━━━━━━━━━━━━━━━━━\u001b[0m\u001b[37m\u001b[0m \u001b[1m2s\u001b[0m 147ms/step - loss: 7.5832e-04 - val_loss: 9.6450e-04\n",
      "Epoch 73/100\n",
      "\u001b[1m11/11\u001b[0m \u001b[32m━━━━━━━━━━━━━━━━━━━━\u001b[0m\u001b[37m\u001b[0m \u001b[1m2s\u001b[0m 150ms/step - loss: 7.9015e-04 - val_loss: 0.0010\n",
      "Epoch 74/100\n",
      "\u001b[1m11/11\u001b[0m \u001b[32m━━━━━━━━━━━━━━━━━━━━\u001b[0m\u001b[37m\u001b[0m \u001b[1m3s\u001b[0m 142ms/step - loss: 0.0010 - val_loss: 0.0016\n",
      "Epoch 75/100\n",
      "\u001b[1m11/11\u001b[0m \u001b[32m━━━━━━━━━━━━━━━━━━━━\u001b[0m\u001b[37m\u001b[0m \u001b[1m2s\u001b[0m 137ms/step - loss: 8.0438e-04 - val_loss: 0.0023\n",
      "Epoch 76/100\n",
      "\u001b[1m11/11\u001b[0m \u001b[32m━━━━━━━━━━━━━━━━━━━━\u001b[0m\u001b[37m\u001b[0m \u001b[1m2s\u001b[0m 132ms/step - loss: 8.9254e-04 - val_loss: 9.7375e-04\n",
      "Epoch 77/100\n",
      "\u001b[1m11/11\u001b[0m \u001b[32m━━━━━━━━━━━━━━━━━━━━\u001b[0m\u001b[37m\u001b[0m \u001b[1m2s\u001b[0m 142ms/step - loss: 6.8064e-04 - val_loss: 9.9381e-04\n",
      "Epoch 78/100\n",
      "\u001b[1m11/11\u001b[0m \u001b[32m━━━━━━━━━━━━━━━━━━━━\u001b[0m\u001b[37m\u001b[0m \u001b[1m3s\u001b[0m 132ms/step - loss: 6.7670e-04 - val_loss: 0.0016\n",
      "Epoch 79/100\n",
      "\u001b[1m11/11\u001b[0m \u001b[32m━━━━━━━━━━━━━━━━━━━━\u001b[0m\u001b[37m\u001b[0m \u001b[1m3s\u001b[0m 149ms/step - loss: 6.9196e-04 - val_loss: 0.0021\n",
      "Epoch 80/100\n",
      "\u001b[1m11/11\u001b[0m \u001b[32m━━━━━━━━━━━━━━━━━━━━\u001b[0m\u001b[37m\u001b[0m \u001b[1m3s\u001b[0m 142ms/step - loss: 9.0667e-04 - val_loss: 0.0012\n",
      "Epoch 81/100\n",
      "\u001b[1m11/11\u001b[0m \u001b[32m━━━━━━━━━━━━━━━━━━━━\u001b[0m\u001b[37m\u001b[0m \u001b[1m3s\u001b[0m 141ms/step - loss: 9.4396e-04 - val_loss: 0.0019\n",
      "Epoch 82/100\n",
      "\u001b[1m11/11\u001b[0m \u001b[32m━━━━━━━━━━━━━━━━━━━━\u001b[0m\u001b[37m\u001b[0m \u001b[1m3s\u001b[0m 142ms/step - loss: 6.9843e-04 - val_loss: 0.0014\n",
      "Epoch 83/100\n",
      "\u001b[1m11/11\u001b[0m \u001b[32m━━━━━━━━━━━━━━━━━━━━\u001b[0m\u001b[37m\u001b[0m \u001b[1m3s\u001b[0m 128ms/step - loss: 6.8379e-04 - val_loss: 7.5137e-04\n",
      "Epoch 84/100\n",
      "\u001b[1m11/11\u001b[0m \u001b[32m━━━━━━━━━━━━━━━━━━━━\u001b[0m\u001b[37m\u001b[0m \u001b[1m1s\u001b[0m 133ms/step - loss: 6.3484e-04 - val_loss: 9.4653e-04\n",
      "Epoch 85/100\n",
      "\u001b[1m11/11\u001b[0m \u001b[32m━━━━━━━━━━━━━━━━━━━━\u001b[0m\u001b[37m\u001b[0m \u001b[1m3s\u001b[0m 155ms/step - loss: 6.2877e-04 - val_loss: 0.0023\n",
      "Epoch 86/100\n",
      "\u001b[1m11/11\u001b[0m \u001b[32m━━━━━━━━━━━━━━━━━━━━\u001b[0m\u001b[37m\u001b[0m \u001b[1m3s\u001b[0m 154ms/step - loss: 7.2708e-04 - val_loss: 9.8847e-04\n",
      "Epoch 87/100\n",
      "\u001b[1m11/11\u001b[0m \u001b[32m━━━━━━━━━━━━━━━━━━━━\u001b[0m\u001b[37m\u001b[0m \u001b[1m2s\u001b[0m 138ms/step - loss: 6.7460e-04 - val_loss: 6.4659e-04\n",
      "Epoch 88/100\n",
      "\u001b[1m11/11\u001b[0m \u001b[32m━━━━━━━━━━━━━━━━━━━━\u001b[0m\u001b[37m\u001b[0m \u001b[1m1s\u001b[0m 130ms/step - loss: 7.7058e-04 - val_loss: 0.0013\n",
      "Epoch 89/100\n",
      "\u001b[1m11/11\u001b[0m \u001b[32m━━━━━━━━━━━━━━━━━━━━\u001b[0m\u001b[37m\u001b[0m \u001b[1m2s\u001b[0m 138ms/step - loss: 5.5207e-04 - val_loss: 0.0014\n",
      "Epoch 90/100\n",
      "\u001b[1m11/11\u001b[0m \u001b[32m━━━━━━━━━━━━━━━━━━━━\u001b[0m\u001b[37m\u001b[0m \u001b[1m3s\u001b[0m 142ms/step - loss: 7.4929e-04 - val_loss: 6.2634e-04\n",
      "Epoch 91/100\n",
      "\u001b[1m11/11\u001b[0m \u001b[32m━━━━━━━━━━━━━━━━━━━━\u001b[0m\u001b[37m\u001b[0m \u001b[1m2s\u001b[0m 124ms/step - loss: 6.4221e-04 - val_loss: 8.4565e-04\n",
      "Epoch 92/100\n",
      "\u001b[1m11/11\u001b[0m \u001b[32m━━━━━━━━━━━━━━━━━━━━\u001b[0m\u001b[37m\u001b[0m \u001b[1m3s\u001b[0m 136ms/step - loss: 5.5631e-04 - val_loss: 6.4778e-04\n",
      "Epoch 93/100\n",
      "\u001b[1m11/11\u001b[0m \u001b[32m━━━━━━━━━━━━━━━━━━━━\u001b[0m\u001b[37m\u001b[0m \u001b[1m3s\u001b[0m 152ms/step - loss: 5.7964e-04 - val_loss: 8.4664e-04\n",
      "Epoch 94/100\n",
      "\u001b[1m11/11\u001b[0m \u001b[32m━━━━━━━━━━━━━━━━━━━━\u001b[0m\u001b[37m\u001b[0m \u001b[1m2s\u001b[0m 135ms/step - loss: 6.2026e-04 - val_loss: 0.0012\n",
      "Epoch 95/100\n",
      "\u001b[1m11/11\u001b[0m \u001b[32m━━━━━━━━━━━━━━━━━━━━\u001b[0m\u001b[37m\u001b[0m \u001b[1m2s\u001b[0m 134ms/step - loss: 5.7415e-04 - val_loss: 7.8994e-04\n",
      "Epoch 96/100\n",
      "\u001b[1m11/11\u001b[0m \u001b[32m━━━━━━━━━━━━━━━━━━━━\u001b[0m\u001b[37m\u001b[0m \u001b[1m3s\u001b[0m 134ms/step - loss: 5.9674e-04 - val_loss: 5.3938e-04\n",
      "Epoch 97/100\n",
      "\u001b[1m11/11\u001b[0m \u001b[32m━━━━━━━━━━━━━━━━━━━━\u001b[0m\u001b[37m\u001b[0m \u001b[1m3s\u001b[0m 128ms/step - loss: 5.9782e-04 - val_loss: 0.0020\n",
      "Epoch 98/100\n",
      "\u001b[1m11/11\u001b[0m \u001b[32m━━━━━━━━━━━━━━━━━━━━\u001b[0m\u001b[37m\u001b[0m \u001b[1m1s\u001b[0m 126ms/step - loss: 6.1324e-04 - val_loss: 0.0012\n",
      "Epoch 99/100\n",
      "\u001b[1m11/11\u001b[0m \u001b[32m━━━━━━━━━━━━━━━━━━━━\u001b[0m\u001b[37m\u001b[0m \u001b[1m2s\u001b[0m 137ms/step - loss: 5.2097e-04 - val_loss: 5.6371e-04\n",
      "Epoch 100/100\n",
      "\u001b[1m11/11\u001b[0m \u001b[32m━━━━━━━━━━━━━━━━━━━━\u001b[0m\u001b[37m\u001b[0m \u001b[1m3s\u001b[0m 145ms/step - loss: 5.4290e-04 - val_loss: 8.3101e-04\n"
     ]
    },
    {
     "data": {
      "text/plain": [
       "<keras.src.callbacks.history.History at 0x1799a92b2e0>"
      ]
     },
     "execution_count": 53,
     "metadata": {},
     "output_type": "execute_result"
    }
   ],
   "source": [
    "model.fit(x_train,y_train,validation_data=(x_test,y_test),epochs=100,batch_size=64,verbose=1)"
   ]
  },
  {
   "cell_type": "code",
   "execution_count": 58,
   "id": "e3dbac7f-24d5-4071-8fc5-826db22a8cbf",
   "metadata": {},
   "outputs": [
    {
     "name": "stdout",
     "output_type": "stream",
     "text": [
      "\u001b[1m21/21\u001b[0m \u001b[32m━━━━━━━━━━━━━━━━━━━━\u001b[0m\u001b[37m\u001b[0m \u001b[1m1s\u001b[0m 25ms/step\n",
      "\u001b[1m10/10\u001b[0m \u001b[32m━━━━━━━━━━━━━━━━━━━━\u001b[0m\u001b[37m\u001b[0m \u001b[1m0s\u001b[0m 33ms/step\n"
     ]
    }
   ],
   "source": [
    "train_predict=model.predict(x_train)\n",
    "test_predict=model.predict(x_test)"
   ]
  },
  {
   "cell_type": "code",
   "execution_count": 60,
   "id": "ec51c027-4602-405e-8dbc-913e69373893",
   "metadata": {},
   "outputs": [],
   "source": [
    "train_predict=scaler.inverse_transform(train_predict)\n",
    "test_predict=scaler.inverse_transform(test_predict)\n"
   ]
  },
  {
   "cell_type": "code",
   "execution_count": 64,
   "id": "37fc14b6-77b6-4369-a56b-69c6610a9ee9",
   "metadata": {},
   "outputs": [
    {
     "data": {
      "text/plain": [
       "139.65622567621878"
      ]
     },
     "execution_count": 64,
     "metadata": {},
     "output_type": "execute_result"
    }
   ],
   "source": [
    "import math\n",
    "from sklearn.metrics import mean_squared_error\n",
    "math.sqrt(mean_squared_error(y_train,train_predict))"
   ]
  },
  {
   "cell_type": "code",
   "execution_count": 66,
   "id": "07e761f8-dae5-4311-abf1-2c20beb8cce2",
   "metadata": {},
   "outputs": [
    {
     "data": {
      "text/plain": [
       "185.44712228693967"
      ]
     },
     "execution_count": 66,
     "metadata": {},
     "output_type": "execute_result"
    }
   ],
   "source": [
    "math.sqrt(mean_squared_error(y_test,test_predict))"
   ]
  },
  {
   "cell_type": "code",
   "execution_count": 68,
   "id": "af241450-1f9b-41a4-8dfc-f4fff8177b68",
   "metadata": {},
   "outputs": [
    {
     "data": {
      "image/png": "[encoded data removed]",
      "text/plain": [
       "<Figure size 640x480 with 1 Axes>"
      ]
     },
     "metadata": {},
     "output_type": "display_data"
    }
   ],
   "source": [
    "look_back=100\n",
    "train_predict_plot=numpy.empty_like(df1)\n",
    "train_predict_plot[:,:]=np.nan\n",
    "train_predict_plot[look_back:len(train_predict)+look_back, :]=train_predict\n",
    "\n",
    "test_predict_plot=numpy.empty_like(df1)\n",
    "test_predict_plot[:,:]=numpy.nan\n",
    "test_predict_plot[len(train_predict)+(look_back*2)+1:len(df1)-1,:]=test_predict\n",
    "\n",
    "plt.plot(scaler.inverse_transform(df1))\n",
    "plt.plot(train_predict_plot)\n",
    "plt.plot(test_predict_plot)\n",
    "plt.show()"
   ]
  },
  {
   "cell_type": "code",
   "execution_count": 70,
   "id": "010274dd-a137-424b-8360-c6162ad8dd98",
   "metadata": {},
   "outputs": [
    {
     "data": {
      "text/plain": [
       "409"
      ]
     },
     "execution_count": 70,
     "metadata": {},
     "output_type": "execute_result"
    }
   ],
   "source": [
    "len(test_data)"
   ]
  },
  {
   "cell_type": "code",
   "execution_count": 72,
   "id": "94d970cb-5771-4034-9bf9-668997d2578a",
   "metadata": {},
   "outputs": [
    {
     "data": {
      "text/plain": [
       "(1, 100)"
      ]
     },
     "execution_count": 72,
     "metadata": {},
     "output_type": "execute_result"
    }
   ],
   "source": [
    "x_input=test_data[309:].reshape(1,-1)\n",
    "x_input.shape"
   ]
  },
  {
   "cell_type": "code",
   "execution_count": 74,
   "id": "9ef9c564-c92d-4f35-a8a1-44b343092aca",
   "metadata": {},
   "outputs": [],
   "source": [
    "temp_input=list(x_input)\n",
    "temp_input=temp_input[0].tolist()"
   ]
  },
  {
   "cell_type": "code",
   "execution_count": 76,
   "id": "78f5aa46-17d0-4609-9fc9-721f9bba59ab",
   "metadata": {},
   "outputs": [
    {
     "data": {
      "text/plain": [
       "[0.6308346066954515,\n",
       " 0.635366631816756,\n",
       " 0.6307227659730322,\n",
       " 0.6349750185390938,\n",
       " 0.6286525173639125,\n",
       " 0.6354785579137727,\n",
       " 0.6249038041725298,\n",
       " 0.6655242691806412,\n",
       " 0.673972939326152,\n",
       " 0.652375812830197,\n",
       " 0.6338560136927194,\n",
       " 0.6261347351159208,\n",
       " 0.6207633923288876,\n",
       " 0.6093494062965131,\n",
       " 0.6140492778760439,\n",
       " 0.6199800803989657,\n",
       " 0.6318417708194066,\n",
       " 0.6367094888571637,\n",
       " 0.6334083946792501,\n",
       " 0.6569078379515014,\n",
       " 0.6391713507439457,\n",
       " 0.6334083946792501,\n",
       " 0.6542781296064931,\n",
       " 0.7121875481832883,\n",
       " 0.7028437253854364,\n",
       " 0.7067042792992387,\n",
       " 0.7086066814501321,\n",
       " 0.7188457422749223,\n",
       " 0.7103411517682018,\n",
       " 0.72841333189221,\n",
       " 0.7348476737898108,\n",
       " 0.7476605225983998,\n",
       " 0.748331908431305,\n",
       " 0.7484997548895312,\n",
       " 0.7550460228841486,\n",
       " 0.7623756881832847,\n",
       " 0.7542627109542269,\n",
       " 0.7317704318059305,\n",
       " 0.7491152203612267,\n",
       " 0.7491712260970339,\n",
       " 0.7508496906792966,\n",
       " 0.7564448002857659,\n",
       " 0.7618161430727991,\n",
       " 0.7717754313423465,\n",
       " 0.7735659073962232,\n",
       " 0.7820704125283465,\n",
       " 0.7742932135903381,\n",
       " 0.7877774482318324,\n",
       " 0.7666838611105561,\n",
       " 0.8451832420593516,\n",
       " 0.8783063660592948,\n",
       " 0.8848526340539121,\n",
       " 0.8750611922425912,\n",
       " 0.8984487094178254,\n",
       " 0.8851323212345578,\n",
       " 0.8593388625337507,\n",
       " 0.8470856442102449,\n",
       " 0.850722431304611,\n",
       " 0.8559259276334178,\n",
       " 0.8793134448086525,\n",
       " 0.88406932212399,\n",
       " 0.8645982792237673,\n",
       " 0.8988963284312946,\n",
       " 0.9185911381509534,\n",
       " 0.9257528716172664,\n",
       " 0.9525534090674311,\n",
       " 0.9608342327547156,\n",
       " 0.9656459450566658,\n",
       " 0.9897049334394027,\n",
       " 0.9594354553530983,\n",
       " 0.9760528523396824,\n",
       " 0.9976499788356376,\n",
       " 1.0,\n",
       " 0.9667650352776372,\n",
       " 0.9404679518275542,\n",
       " 0.9411953433962662,\n",
       " 0.9392371062587604,\n",
       " 0.9451119030458756,\n",
       " 0.9089115370620519,\n",
       " 0.9030367402749372,\n",
       " 0.9056664486199452,\n",
       " 0.9072330724797889,\n",
       " 0.9103663201994759,\n",
       " 0.9287182728787272,\n",
       " 0.9079044583126942,\n",
       " 0.916297122722398,\n",
       " 0.8570449324797921,\n",
       " 0.8456308610728204,\n",
       " 0.8601222598382697,\n",
       " 0.8796491377251049,\n",
       " 0.8960428532668506,\n",
       " 0.903260507094373,\n",
       " 0.9241862477574226,\n",
       " 0.9267040300054145,\n",
       " 0.943489358824822,\n",
       " 0.9509308648463778,\n",
       " 0.9500356268194393,\n",
       " 0.9535045674555794,\n",
       " 0.9528891019838838,\n",
       " 0.9424262743396573]"
      ]
     },
     "execution_count": 76,
     "metadata": {},
     "output_type": "execute_result"
    }
   ],
   "source": [
    "temp_input"
   ]
  },
  {
   "cell_type": "code",
   "execution_count": 84,
   "id": "00a8cfd0-b463-46b2-96f5-d99234dc72e0",
   "metadata": {},
   "outputs": [
    {
     "name": "stdout",
     "output_type": "stream",
     "text": [
      "[0.9276102]\n",
      "101\n",
      "1 day input [0.63536663 0.63072277 0.63497502 0.62865252 0.63547856 0.6249038\n",
      " 0.66552427 0.67397294 0.65237581 0.63385601 0.62613474 0.62076339\n",
      " 0.60934941 0.61404928 0.61998008 0.63184177 0.63670949 0.63340839\n",
      " 0.65690784 0.63917135 0.63340839 0.65427813 0.71218755 0.70284373\n",
      " 0.70670428 0.70860668 0.71884574 0.71034115 0.72841333 0.73484767\n",
      " 0.74766052 0.74833191 0.74849975 0.75504602 0.76237569 0.75426271\n",
      " 0.73177043 0.74911522 0.74917123 0.75084969 0.7564448  0.76181614\n",
      " 0.77177543 0.77356591 0.78207041 0.77429321 0.78777745 0.76668386\n",
      " 0.84518324 0.87830637 0.88485263 0.87506119 0.89844871 0.88513232\n",
      " 0.85933886 0.84708564 0.85072243 0.85592593 0.87931344 0.88406932\n",
      " 0.86459828 0.89889633 0.91859114 0.92575287 0.95255341 0.96083423\n",
      " 0.96564595 0.98970493 0.95943546 0.97605285 0.99764998 1.\n",
      " 0.96676504 0.94046795 0.94119534 0.93923711 0.9451119  0.90891154\n",
      " 0.90303674 0.90566645 0.90723307 0.91036632 0.92871827 0.90790446\n",
      " 0.91629712 0.85704493 0.84563086 0.86012226 0.87964914 0.89604285\n",
      " 0.90326051 0.92418625 0.92670403 0.94348936 0.95093086 0.95003563\n",
      " 0.95350457 0.9528891  0.94242627 0.92761022]\n",
      "1 day output [[0.92159134]]\n",
      "2 day input [0.63072277 0.63497502 0.62865252 0.63547856 0.6249038  0.66552427\n",
      " 0.67397294 0.65237581 0.63385601 0.62613474 0.62076339 0.60934941\n",
      " 0.61404928 0.61998008 0.63184177 0.63670949 0.63340839 0.65690784\n",
      " 0.63917135 0.63340839 0.65427813 0.71218755 0.70284373 0.70670428\n",
      " 0.70860668 0.71884574 0.71034115 0.72841333 0.73484767 0.74766052\n",
      " 0.74833191 0.74849975 0.75504602 0.76237569 0.75426271 0.73177043\n",
      " 0.74911522 0.74917123 0.75084969 0.7564448  0.76181614 0.77177543\n",
      " 0.77356591 0.78207041 0.77429321 0.78777745 0.76668386 0.84518324\n",
      " 0.87830637 0.88485263 0.87506119 0.89844871 0.88513232 0.85933886\n",
      " 0.84708564 0.85072243 0.85592593 0.87931344 0.88406932 0.86459828\n",
      " 0.89889633 0.91859114 0.92575287 0.95255341 0.96083423 0.96564595\n",
      " 0.98970493 0.95943546 0.97605285 0.99764998 1.         0.96676504\n",
      " 0.94046795 0.94119534 0.93923711 0.9451119  0.90891154 0.90303674\n",
      " 0.90566645 0.90723307 0.91036632 0.92871827 0.90790446 0.91629712\n",
      " 0.85704493 0.84563086 0.86012226 0.87964914 0.89604285 0.90326051\n",
      " 0.92418625 0.92670403 0.94348936 0.95093086 0.95003563 0.95350457\n",
      " 0.9528891  0.94242627 0.92761022 0.92159134]\n",
      "2 day output [[0.9087437]]\n",
      "3 day input [0.63497502 0.62865252 0.63547856 0.6249038  0.66552427 0.67397294\n",
      " 0.65237581 0.63385601 0.62613474 0.62076339 0.60934941 0.61404928\n",
      " 0.61998008 0.63184177 0.63670949 0.63340839 0.65690784 0.63917135\n",
      " 0.63340839 0.65427813 0.71218755 0.70284373 0.70670428 0.70860668\n",
      " 0.71884574 0.71034115 0.72841333 0.73484767 0.74766052 0.74833191\n",
      " 0.74849975 0.75504602 0.76237569 0.75426271 0.73177043 0.74911522\n",
      " 0.74917123 0.75084969 0.7564448  0.76181614 0.77177543 0.77356591\n",
      " 0.78207041 0.77429321 0.78777745 0.76668386 0.84518324 0.87830637\n",
      " 0.88485263 0.87506119 0.89844871 0.88513232 0.85933886 0.84708564\n",
      " 0.85072243 0.85592593 0.87931344 0.88406932 0.86459828 0.89889633\n",
      " 0.91859114 0.92575287 0.95255341 0.96083423 0.96564595 0.98970493\n",
      " 0.95943546 0.97605285 0.99764998 1.         0.96676504 0.94046795\n",
      " 0.94119534 0.93923711 0.9451119  0.90891154 0.90303674 0.90566645\n",
      " 0.90723307 0.91036632 0.92871827 0.90790446 0.91629712 0.85704493\n",
      " 0.84563086 0.86012226 0.87964914 0.89604285 0.90326051 0.92418625\n",
      " 0.92670403 0.94348936 0.95093086 0.95003563 0.95350457 0.9528891\n",
      " 0.94242627 0.92761022 0.92159134 0.90874368]\n",
      "3 day output [[0.89232767]]\n",
      "4 day input [0.62865252 0.63547856 0.6249038  0.66552427 0.67397294 0.65237581\n",
      " 0.63385601 0.62613474 0.62076339 0.60934941 0.61404928 0.61998008\n",
      " 0.63184177 0.63670949 0.63340839 0.65690784 0.63917135 0.63340839\n",
      " 0.65427813 0.71218755 0.70284373 0.70670428 0.70860668 0.71884574\n",
      " 0.71034115 0.72841333 0.73484767 0.74766052 0.74833191 0.74849975\n",
      " 0.75504602 0.76237569 0.75426271 0.73177043 0.74911522 0.74917123\n",
      " 0.75084969 0.7564448  0.76181614 0.77177543 0.77356591 0.78207041\n",
      " 0.77429321 0.78777745 0.76668386 0.84518324 0.87830637 0.88485263\n",
      " 0.87506119 0.89844871 0.88513232 0.85933886 0.84708564 0.85072243\n",
      " 0.85592593 0.87931344 0.88406932 0.86459828 0.89889633 0.91859114\n",
      " 0.92575287 0.95255341 0.96083423 0.96564595 0.98970493 0.95943546\n",
      " 0.97605285 0.99764998 1.         0.96676504 0.94046795 0.94119534\n",
      " 0.93923711 0.9451119  0.90891154 0.90303674 0.90566645 0.90723307\n",
      " 0.91036632 0.92871827 0.90790446 0.91629712 0.85704493 0.84563086\n",
      " 0.86012226 0.87964914 0.89604285 0.90326051 0.92418625 0.92670403\n",
      " 0.94348936 0.95093086 0.95003563 0.95350457 0.9528891  0.94242627\n",
      " 0.92761022 0.92159134 0.90874368 0.89232767]\n",
      "4 day output [[0.8752969]]\n",
      "5 day input [0.63547856 0.6249038  0.66552427 0.67397294 0.65237581 0.63385601\n",
      " 0.62613474 0.62076339 0.60934941 0.61404928 0.61998008 0.63184177\n",
      " 0.63670949 0.63340839 0.65690784 0.63917135 0.63340839 0.65427813\n",
      " 0.71218755 0.70284373 0.70670428 0.70860668 0.71884574 0.71034115\n",
      " 0.72841333 0.73484767 0.74766052 0.74833191 0.74849975 0.75504602\n",
      " 0.76237569 0.75426271 0.73177043 0.74911522 0.74917123 0.75084969\n",
      " 0.7564448  0.76181614 0.77177543 0.77356591 0.78207041 0.77429321\n",
      " 0.78777745 0.76668386 0.84518324 0.87830637 0.88485263 0.87506119\n",
      " 0.89844871 0.88513232 0.85933886 0.84708564 0.85072243 0.85592593\n",
      " 0.87931344 0.88406932 0.86459828 0.89889633 0.91859114 0.92575287\n",
      " 0.95255341 0.96083423 0.96564595 0.98970493 0.95943546 0.97605285\n",
      " 0.99764998 1.         0.96676504 0.94046795 0.94119534 0.93923711\n",
      " 0.9451119  0.90891154 0.90303674 0.90566645 0.90723307 0.91036632\n",
      " 0.92871827 0.90790446 0.91629712 0.85704493 0.84563086 0.86012226\n",
      " 0.87964914 0.89604285 0.90326051 0.92418625 0.92670403 0.94348936\n",
      " 0.95093086 0.95003563 0.95350457 0.9528891  0.94242627 0.92761022\n",
      " 0.92159134 0.90874368 0.89232767 0.87529689]\n",
      "5 day output [[0.85902905]]\n",
      "6 day input [0.6249038  0.66552427 0.67397294 0.65237581 0.63385601 0.62613474\n",
      " 0.62076339 0.60934941 0.61404928 0.61998008 0.63184177 0.63670949\n",
      " 0.63340839 0.65690784 0.63917135 0.63340839 0.65427813 0.71218755\n",
      " 0.70284373 0.70670428 0.70860668 0.71884574 0.71034115 0.72841333\n",
      " 0.73484767 0.74766052 0.74833191 0.74849975 0.75504602 0.76237569\n",
      " 0.75426271 0.73177043 0.74911522 0.74917123 0.75084969 0.7564448\n",
      " 0.76181614 0.77177543 0.77356591 0.78207041 0.77429321 0.78777745\n",
      " 0.76668386 0.84518324 0.87830637 0.88485263 0.87506119 0.89844871\n",
      " 0.88513232 0.85933886 0.84708564 0.85072243 0.85592593 0.87931344\n",
      " 0.88406932 0.86459828 0.89889633 0.91859114 0.92575287 0.95255341\n",
      " 0.96083423 0.96564595 0.98970493 0.95943546 0.97605285 0.99764998\n",
      " 1.         0.96676504 0.94046795 0.94119534 0.93923711 0.9451119\n",
      " 0.90891154 0.90303674 0.90566645 0.90723307 0.91036632 0.92871827\n",
      " 0.90790446 0.91629712 0.85704493 0.84563086 0.86012226 0.87964914\n",
      " 0.89604285 0.90326051 0.92418625 0.92670403 0.94348936 0.95093086\n",
      " 0.95003563 0.95350457 0.9528891  0.94242627 0.92761022 0.92159134\n",
      " 0.90874368 0.89232767 0.87529689 0.85902905]\n",
      "6 day output [[0.8435296]]\n",
      "7 day input [0.66552427 0.67397294 0.65237581 0.63385601 0.62613474 0.62076339\n",
      " 0.60934941 0.61404928 0.61998008 0.63184177 0.63670949 0.63340839\n",
      " 0.65690784 0.63917135 0.63340839 0.65427813 0.71218755 0.70284373\n",
      " 0.70670428 0.70860668 0.71884574 0.71034115 0.72841333 0.73484767\n",
      " 0.74766052 0.74833191 0.74849975 0.75504602 0.76237569 0.75426271\n",
      " 0.73177043 0.74911522 0.74917123 0.75084969 0.7564448  0.76181614\n",
      " 0.77177543 0.77356591 0.78207041 0.77429321 0.78777745 0.76668386\n",
      " 0.84518324 0.87830637 0.88485263 0.87506119 0.89844871 0.88513232\n",
      " 0.85933886 0.84708564 0.85072243 0.85592593 0.87931344 0.88406932\n",
      " 0.86459828 0.89889633 0.91859114 0.92575287 0.95255341 0.96083423\n",
      " 0.96564595 0.98970493 0.95943546 0.97605285 0.99764998 1.\n",
      " 0.96676504 0.94046795 0.94119534 0.93923711 0.9451119  0.90891154\n",
      " 0.90303674 0.90566645 0.90723307 0.91036632 0.92871827 0.90790446\n",
      " 0.91629712 0.85704493 0.84563086 0.86012226 0.87964914 0.89604285\n",
      " 0.90326051 0.92418625 0.92670403 0.94348936 0.95093086 0.95003563\n",
      " 0.95350457 0.9528891  0.94242627 0.92761022 0.92159134 0.90874368\n",
      " 0.89232767 0.87529689 0.85902905 0.84352958]\n",
      "7 day output [[0.828258]]\n",
      "8 day input [0.67397294 0.65237581 0.63385601 0.62613474 0.62076339 0.60934941\n",
      " 0.61404928 0.61998008 0.63184177 0.63670949 0.63340839 0.65690784\n",
      " 0.63917135 0.63340839 0.65427813 0.71218755 0.70284373 0.70670428\n",
      " 0.70860668 0.71884574 0.71034115 0.72841333 0.73484767 0.74766052\n",
      " 0.74833191 0.74849975 0.75504602 0.76237569 0.75426271 0.73177043\n",
      " 0.74911522 0.74917123 0.75084969 0.7564448  0.76181614 0.77177543\n",
      " 0.77356591 0.78207041 0.77429321 0.78777745 0.76668386 0.84518324\n",
      " 0.87830637 0.88485263 0.87506119 0.89844871 0.88513232 0.85933886\n",
      " 0.84708564 0.85072243 0.85592593 0.87931344 0.88406932 0.86459828\n",
      " 0.89889633 0.91859114 0.92575287 0.95255341 0.96083423 0.96564595\n",
      " 0.98970493 0.95943546 0.97605285 0.99764998 1.         0.96676504\n",
      " 0.94046795 0.94119534 0.93923711 0.9451119  0.90891154 0.90303674\n",
      " 0.90566645 0.90723307 0.91036632 0.92871827 0.90790446 0.91629712\n",
      " 0.85704493 0.84563086 0.86012226 0.87964914 0.89604285 0.90326051\n",
      " 0.92418625 0.92670403 0.94348936 0.95093086 0.95003563 0.95350457\n",
      " 0.9528891  0.94242627 0.92761022 0.92159134 0.90874368 0.89232767\n",
      " 0.87529689 0.85902905 0.84352958 0.82825798]\n",
      "8 day output [[0.81281793]]\n",
      "9 day input [0.65237581 0.63385601 0.62613474 0.62076339 0.60934941 0.61404928\n",
      " 0.61998008 0.63184177 0.63670949 0.63340839 0.65690784 0.63917135\n",
      " 0.63340839 0.65427813 0.71218755 0.70284373 0.70670428 0.70860668\n",
      " 0.71884574 0.71034115 0.72841333 0.73484767 0.74766052 0.74833191\n",
      " 0.74849975 0.75504602 0.76237569 0.75426271 0.73177043 0.74911522\n",
      " 0.74917123 0.75084969 0.7564448  0.76181614 0.77177543 0.77356591\n",
      " 0.78207041 0.77429321 0.78777745 0.76668386 0.84518324 0.87830637\n",
      " 0.88485263 0.87506119 0.89844871 0.88513232 0.85933886 0.84708564\n",
      " 0.85072243 0.85592593 0.87931344 0.88406932 0.86459828 0.89889633\n",
      " 0.91859114 0.92575287 0.95255341 0.96083423 0.96564595 0.98970493\n",
      " 0.95943546 0.97605285 0.99764998 1.         0.96676504 0.94046795\n",
      " 0.94119534 0.93923711 0.9451119  0.90891154 0.90303674 0.90566645\n",
      " 0.90723307 0.91036632 0.92871827 0.90790446 0.91629712 0.85704493\n",
      " 0.84563086 0.86012226 0.87964914 0.89604285 0.90326051 0.92418625\n",
      " 0.92670403 0.94348936 0.95093086 0.95003563 0.95350457 0.9528891\n",
      " 0.94242627 0.92761022 0.92159134 0.90874368 0.89232767 0.87529689\n",
      " 0.85902905 0.84352958 0.82825798 0.81281793]\n",
      "9 day output [[0.7972058]]\n",
      "10 day input [0.63385601 0.62613474 0.62076339 0.60934941 0.61404928 0.61998008\n",
      " 0.63184177 0.63670949 0.63340839 0.65690784 0.63917135 0.63340839\n",
      " 0.65427813 0.71218755 0.70284373 0.70670428 0.70860668 0.71884574\n",
      " 0.71034115 0.72841333 0.73484767 0.74766052 0.74833191 0.74849975\n",
      " 0.75504602 0.76237569 0.75426271 0.73177043 0.74911522 0.74917123\n",
      " 0.75084969 0.7564448  0.76181614 0.77177543 0.77356591 0.78207041\n",
      " 0.77429321 0.78777745 0.76668386 0.84518324 0.87830637 0.88485263\n",
      " 0.87506119 0.89844871 0.88513232 0.85933886 0.84708564 0.85072243\n",
      " 0.85592593 0.87931344 0.88406932 0.86459828 0.89889633 0.91859114\n",
      " 0.92575287 0.95255341 0.96083423 0.96564595 0.98970493 0.95943546\n",
      " 0.97605285 0.99764998 1.         0.96676504 0.94046795 0.94119534\n",
      " 0.93923711 0.9451119  0.90891154 0.90303674 0.90566645 0.90723307\n",
      " 0.91036632 0.92871827 0.90790446 0.91629712 0.85704493 0.84563086\n",
      " 0.86012226 0.87964914 0.89604285 0.90326051 0.92418625 0.92670403\n",
      " 0.94348936 0.95093086 0.95003563 0.95350457 0.9528891  0.94242627\n",
      " 0.92761022 0.92159134 0.90874368 0.89232767 0.87529689 0.85902905\n",
      " 0.84352958 0.82825798 0.81281793 0.79720581]\n",
      "10 day output [[0.78169626]]\n",
      "11 day input [0.62613474 0.62076339 0.60934941 0.61404928 0.61998008 0.63184177\n",
      " 0.63670949 0.63340839 0.65690784 0.63917135 0.63340839 0.65427813\n",
      " 0.71218755 0.70284373 0.70670428 0.70860668 0.71884574 0.71034115\n",
      " 0.72841333 0.73484767 0.74766052 0.74833191 0.74849975 0.75504602\n",
      " 0.76237569 0.75426271 0.73177043 0.74911522 0.74917123 0.75084969\n",
      " 0.7564448  0.76181614 0.77177543 0.77356591 0.78207041 0.77429321\n",
      " 0.78777745 0.76668386 0.84518324 0.87830637 0.88485263 0.87506119\n",
      " 0.89844871 0.88513232 0.85933886 0.84708564 0.85072243 0.85592593\n",
      " 0.87931344 0.88406932 0.86459828 0.89889633 0.91859114 0.92575287\n",
      " 0.95255341 0.96083423 0.96564595 0.98970493 0.95943546 0.97605285\n",
      " 0.99764998 1.         0.96676504 0.94046795 0.94119534 0.93923711\n",
      " 0.9451119  0.90891154 0.90303674 0.90566645 0.90723307 0.91036632\n",
      " 0.92871827 0.90790446 0.91629712 0.85704493 0.84563086 0.86012226\n",
      " 0.87964914 0.89604285 0.90326051 0.92418625 0.92670403 0.94348936\n",
      " 0.95093086 0.95003563 0.95350457 0.9528891  0.94242627 0.92761022\n",
      " 0.92159134 0.90874368 0.89232767 0.87529689 0.85902905 0.84352958\n",
      " 0.82825798 0.81281793 0.79720581 0.78169626]\n",
      "11 day output [[0.766609]]\n",
      "12 day input [0.62076339 0.60934941 0.61404928 0.61998008 0.63184177 0.63670949\n",
      " 0.63340839 0.65690784 0.63917135 0.63340839 0.65427813 0.71218755\n",
      " 0.70284373 0.70670428 0.70860668 0.71884574 0.71034115 0.72841333\n",
      " 0.73484767 0.74766052 0.74833191 0.74849975 0.75504602 0.76237569\n",
      " 0.75426271 0.73177043 0.74911522 0.74917123 0.75084969 0.7564448\n",
      " 0.76181614 0.77177543 0.77356591 0.78207041 0.77429321 0.78777745\n",
      " 0.76668386 0.84518324 0.87830637 0.88485263 0.87506119 0.89844871\n",
      " 0.88513232 0.85933886 0.84708564 0.85072243 0.85592593 0.87931344\n",
      " 0.88406932 0.86459828 0.89889633 0.91859114 0.92575287 0.95255341\n",
      " 0.96083423 0.96564595 0.98970493 0.95943546 0.97605285 0.99764998\n",
      " 1.         0.96676504 0.94046795 0.94119534 0.93923711 0.9451119\n",
      " 0.90891154 0.90303674 0.90566645 0.90723307 0.91036632 0.92871827\n",
      " 0.90790446 0.91629712 0.85704493 0.84563086 0.86012226 0.87964914\n",
      " 0.89604285 0.90326051 0.92418625 0.92670403 0.94348936 0.95093086\n",
      " 0.95003563 0.95350457 0.9528891  0.94242627 0.92761022 0.92159134\n",
      " 0.90874368 0.89232767 0.87529689 0.85902905 0.84352958 0.82825798\n",
      " 0.81281793 0.79720581 0.78169626 0.76660901]\n",
      "12 day output [[0.75214416]]\n",
      "13 day input [0.60934941 0.61404928 0.61998008 0.63184177 0.63670949 0.63340839\n",
      " 0.65690784 0.63917135 0.63340839 0.65427813 0.71218755 0.70284373\n",
      " 0.70670428 0.70860668 0.71884574 0.71034115 0.72841333 0.73484767\n",
      " 0.74766052 0.74833191 0.74849975 0.75504602 0.76237569 0.75426271\n",
      " 0.73177043 0.74911522 0.74917123 0.75084969 0.7564448  0.76181614\n",
      " 0.77177543 0.77356591 0.78207041 0.77429321 0.78777745 0.76668386\n",
      " 0.84518324 0.87830637 0.88485263 0.87506119 0.89844871 0.88513232\n",
      " 0.85933886 0.84708564 0.85072243 0.85592593 0.87931344 0.88406932\n",
      " 0.86459828 0.89889633 0.91859114 0.92575287 0.95255341 0.96083423\n",
      " 0.96564595 0.98970493 0.95943546 0.97605285 0.99764998 1.\n",
      " 0.96676504 0.94046795 0.94119534 0.93923711 0.9451119  0.90891154\n",
      " 0.90303674 0.90566645 0.90723307 0.91036632 0.92871827 0.90790446\n",
      " 0.91629712 0.85704493 0.84563086 0.86012226 0.87964914 0.89604285\n",
      " 0.90326051 0.92418625 0.92670403 0.94348936 0.95093086 0.95003563\n",
      " 0.95350457 0.9528891  0.94242627 0.92761022 0.92159134 0.90874368\n",
      " 0.89232767 0.87529689 0.85902905 0.84352958 0.82825798 0.81281793\n",
      " 0.79720581 0.78169626 0.76660901 0.75214416]\n",
      "13 day output [[0.7383493]]\n",
      "14 day input [0.61404928 0.61998008 0.63184177 0.63670949 0.63340839 0.65690784\n",
      " 0.63917135 0.63340839 0.65427813 0.71218755 0.70284373 0.70670428\n",
      " 0.70860668 0.71884574 0.71034115 0.72841333 0.73484767 0.74766052\n",
      " 0.74833191 0.74849975 0.75504602 0.76237569 0.75426271 0.73177043\n",
      " 0.74911522 0.74917123 0.75084969 0.7564448  0.76181614 0.77177543\n",
      " 0.77356591 0.78207041 0.77429321 0.78777745 0.76668386 0.84518324\n",
      " 0.87830637 0.88485263 0.87506119 0.89844871 0.88513232 0.85933886\n",
      " 0.84708564 0.85072243 0.85592593 0.87931344 0.88406932 0.86459828\n",
      " 0.89889633 0.91859114 0.92575287 0.95255341 0.96083423 0.96564595\n",
      " 0.98970493 0.95943546 0.97605285 0.99764998 1.         0.96676504\n",
      " 0.94046795 0.94119534 0.93923711 0.9451119  0.90891154 0.90303674\n",
      " 0.90566645 0.90723307 0.91036632 0.92871827 0.90790446 0.91629712\n",
      " 0.85704493 0.84563086 0.86012226 0.87964914 0.89604285 0.90326051\n",
      " 0.92418625 0.92670403 0.94348936 0.95093086 0.95003563 0.95350457\n",
      " 0.9528891  0.94242627 0.92761022 0.92159134 0.90874368 0.89232767\n",
      " 0.87529689 0.85902905 0.84352958 0.82825798 0.81281793 0.79720581\n",
      " 0.78169626 0.76660901 0.75214416 0.73834932]\n",
      "14 day output [[0.7251774]]\n",
      "15 day input [0.61998008 0.63184177 0.63670949 0.63340839 0.65690784 0.63917135\n",
      " 0.63340839 0.65427813 0.71218755 0.70284373 0.70670428 0.70860668\n",
      " 0.71884574 0.71034115 0.72841333 0.73484767 0.74766052 0.74833191\n",
      " 0.74849975 0.75504602 0.76237569 0.75426271 0.73177043 0.74911522\n",
      " 0.74917123 0.75084969 0.7564448  0.76181614 0.77177543 0.77356591\n",
      " 0.78207041 0.77429321 0.78777745 0.76668386 0.84518324 0.87830637\n",
      " 0.88485263 0.87506119 0.89844871 0.88513232 0.85933886 0.84708564\n",
      " 0.85072243 0.85592593 0.87931344 0.88406932 0.86459828 0.89889633\n",
      " 0.91859114 0.92575287 0.95255341 0.96083423 0.96564595 0.98970493\n",
      " 0.95943546 0.97605285 0.99764998 1.         0.96676504 0.94046795\n",
      " 0.94119534 0.93923711 0.9451119  0.90891154 0.90303674 0.90566645\n",
      " 0.90723307 0.91036632 0.92871827 0.90790446 0.91629712 0.85704493\n",
      " 0.84563086 0.86012226 0.87964914 0.89604285 0.90326051 0.92418625\n",
      " 0.92670403 0.94348936 0.95093086 0.95003563 0.95350457 0.9528891\n",
      " 0.94242627 0.92761022 0.92159134 0.90874368 0.89232767 0.87529689\n",
      " 0.85902905 0.84352958 0.82825798 0.81281793 0.79720581 0.78169626\n",
      " 0.76660901 0.75214416 0.73834932 0.72517741]\n",
      "15 day output [[0.71256113]]\n",
      "16 day input [0.63184177 0.63670949 0.63340839 0.65690784 0.63917135 0.63340839\n",
      " 0.65427813 0.71218755 0.70284373 0.70670428 0.70860668 0.71884574\n",
      " 0.71034115 0.72841333 0.73484767 0.74766052 0.74833191 0.74849975\n",
      " 0.75504602 0.76237569 0.75426271 0.73177043 0.74911522 0.74917123\n",
      " 0.75084969 0.7564448  0.76181614 0.77177543 0.77356591 0.78207041\n",
      " 0.77429321 0.78777745 0.76668386 0.84518324 0.87830637 0.88485263\n",
      " 0.87506119 0.89844871 0.88513232 0.85933886 0.84708564 0.85072243\n",
      " 0.85592593 0.87931344 0.88406932 0.86459828 0.89889633 0.91859114\n",
      " 0.92575287 0.95255341 0.96083423 0.96564595 0.98970493 0.95943546\n",
      " 0.97605285 0.99764998 1.         0.96676504 0.94046795 0.94119534\n",
      " 0.93923711 0.9451119  0.90891154 0.90303674 0.90566645 0.90723307\n",
      " 0.91036632 0.92871827 0.90790446 0.91629712 0.85704493 0.84563086\n",
      " 0.86012226 0.87964914 0.89604285 0.90326051 0.92418625 0.92670403\n",
      " 0.94348936 0.95093086 0.95003563 0.95350457 0.9528891  0.94242627\n",
      " 0.92761022 0.92159134 0.90874368 0.89232767 0.87529689 0.85902905\n",
      " 0.84352958 0.82825798 0.81281793 0.79720581 0.78169626 0.76660901\n",
      " 0.75214416 0.73834932 0.72517741 0.71256113]\n",
      "16 day output [[0.7004615]]\n",
      "17 day input [0.63670949 0.63340839 0.65690784 0.63917135 0.63340839 0.65427813\n",
      " 0.71218755 0.70284373 0.70670428 0.70860668 0.71884574 0.71034115\n",
      " 0.72841333 0.73484767 0.74766052 0.74833191 0.74849975 0.75504602\n",
      " 0.76237569 0.75426271 0.73177043 0.74911522 0.74917123 0.75084969\n",
      " 0.7564448  0.76181614 0.77177543 0.77356591 0.78207041 0.77429321\n",
      " 0.78777745 0.76668386 0.84518324 0.87830637 0.88485263 0.87506119\n",
      " 0.89844871 0.88513232 0.85933886 0.84708564 0.85072243 0.85592593\n",
      " 0.87931344 0.88406932 0.86459828 0.89889633 0.91859114 0.92575287\n",
      " 0.95255341 0.96083423 0.96564595 0.98970493 0.95943546 0.97605285\n",
      " 0.99764998 1.         0.96676504 0.94046795 0.94119534 0.93923711\n",
      " 0.9451119  0.90891154 0.90303674 0.90566645 0.90723307 0.91036632\n",
      " 0.92871827 0.90790446 0.91629712 0.85704493 0.84563086 0.86012226\n",
      " 0.87964914 0.89604285 0.90326051 0.92418625 0.92670403 0.94348936\n",
      " 0.95093086 0.95003563 0.95350457 0.9528891  0.94242627 0.92761022\n",
      " 0.92159134 0.90874368 0.89232767 0.87529689 0.85902905 0.84352958\n",
      " 0.82825798 0.81281793 0.79720581 0.78169626 0.76660901 0.75214416\n",
      " 0.73834932 0.72517741 0.71256113 0.70046151]\n",
      "17 day output [[0.6888717]]\n",
      "18 day input [0.63340839 0.65690784 0.63917135 0.63340839 0.65427813 0.71218755\n",
      " 0.70284373 0.70670428 0.70860668 0.71884574 0.71034115 0.72841333\n",
      " 0.73484767 0.74766052 0.74833191 0.74849975 0.75504602 0.76237569\n",
      " 0.75426271 0.73177043 0.74911522 0.74917123 0.75084969 0.7564448\n",
      " 0.76181614 0.77177543 0.77356591 0.78207041 0.77429321 0.78777745\n",
      " 0.76668386 0.84518324 0.87830637 0.88485263 0.87506119 0.89844871\n",
      " 0.88513232 0.85933886 0.84708564 0.85072243 0.85592593 0.87931344\n",
      " 0.88406932 0.86459828 0.89889633 0.91859114 0.92575287 0.95255341\n",
      " 0.96083423 0.96564595 0.98970493 0.95943546 0.97605285 0.99764998\n",
      " 1.         0.96676504 0.94046795 0.94119534 0.93923711 0.9451119\n",
      " 0.90891154 0.90303674 0.90566645 0.90723307 0.91036632 0.92871827\n",
      " 0.90790446 0.91629712 0.85704493 0.84563086 0.86012226 0.87964914\n",
      " 0.89604285 0.90326051 0.92418625 0.92670403 0.94348936 0.95093086\n",
      " 0.95003563 0.95350457 0.9528891  0.94242627 0.92761022 0.92159134\n",
      " 0.90874368 0.89232767 0.87529689 0.85902905 0.84352958 0.82825798\n",
      " 0.81281793 0.79720581 0.78169626 0.76660901 0.75214416 0.73834932\n",
      " 0.72517741 0.71256113 0.70046151 0.68887168]\n",
      "18 day output [[0.6778022]]\n",
      "19 day input [0.65690784 0.63917135 0.63340839 0.65427813 0.71218755 0.70284373\n",
      " 0.70670428 0.70860668 0.71884574 0.71034115 0.72841333 0.73484767\n",
      " 0.74766052 0.74833191 0.74849975 0.75504602 0.76237569 0.75426271\n",
      " 0.73177043 0.74911522 0.74917123 0.75084969 0.7564448  0.76181614\n",
      " 0.77177543 0.77356591 0.78207041 0.77429321 0.78777745 0.76668386\n",
      " 0.84518324 0.87830637 0.88485263 0.87506119 0.89844871 0.88513232\n",
      " 0.85933886 0.84708564 0.85072243 0.85592593 0.87931344 0.88406932\n",
      " 0.86459828 0.89889633 0.91859114 0.92575287 0.95255341 0.96083423\n",
      " 0.96564595 0.98970493 0.95943546 0.97605285 0.99764998 1.\n",
      " 0.96676504 0.94046795 0.94119534 0.93923711 0.9451119  0.90891154\n",
      " 0.90303674 0.90566645 0.90723307 0.91036632 0.92871827 0.90790446\n",
      " 0.91629712 0.85704493 0.84563086 0.86012226 0.87964914 0.89604285\n",
      " 0.90326051 0.92418625 0.92670403 0.94348936 0.95093086 0.95003563\n",
      " 0.95350457 0.9528891  0.94242627 0.92761022 0.92159134 0.90874368\n",
      " 0.89232767 0.87529689 0.85902905 0.84352958 0.82825798 0.81281793\n",
      " 0.79720581 0.78169626 0.76660901 0.75214416 0.73834932 0.72517741\n",
      " 0.71256113 0.70046151 0.68887168 0.67780221]\n",
      "19 day output [[0.66725975]]\n",
      "20 day input [0.63917135 0.63340839 0.65427813 0.71218755 0.70284373 0.70670428\n",
      " 0.70860668 0.71884574 0.71034115 0.72841333 0.73484767 0.74766052\n",
      " 0.74833191 0.74849975 0.75504602 0.76237569 0.75426271 0.73177043\n",
      " 0.74911522 0.74917123 0.75084969 0.7564448  0.76181614 0.77177543\n",
      " 0.77356591 0.78207041 0.77429321 0.78777745 0.76668386 0.84518324\n",
      " 0.87830637 0.88485263 0.87506119 0.89844871 0.88513232 0.85933886\n",
      " 0.84708564 0.85072243 0.85592593 0.87931344 0.88406932 0.86459828\n",
      " 0.89889633 0.91859114 0.92575287 0.95255341 0.96083423 0.96564595\n",
      " 0.98970493 0.95943546 0.97605285 0.99764998 1.         0.96676504\n",
      " 0.94046795 0.94119534 0.93923711 0.9451119  0.90891154 0.90303674\n",
      " 0.90566645 0.90723307 0.91036632 0.92871827 0.90790446 0.91629712\n",
      " 0.85704493 0.84563086 0.86012226 0.87964914 0.89604285 0.90326051\n",
      " 0.92418625 0.92670403 0.94348936 0.95093086 0.95003563 0.95350457\n",
      " 0.9528891  0.94242627 0.92761022 0.92159134 0.90874368 0.89232767\n",
      " 0.87529689 0.85902905 0.84352958 0.82825798 0.81281793 0.79720581\n",
      " 0.78169626 0.76660901 0.75214416 0.73834932 0.72517741 0.71256113\n",
      " 0.70046151 0.68887168 0.67780221 0.66725975]\n",
      "20 day output [[0.65723974]]\n",
      "21 day input [0.63340839 0.65427813 0.71218755 0.70284373 0.70670428 0.70860668\n",
      " 0.71884574 0.71034115 0.72841333 0.73484767 0.74766052 0.74833191\n",
      " 0.74849975 0.75504602 0.76237569 0.75426271 0.73177043 0.74911522\n",
      " 0.74917123 0.75084969 0.7564448  0.76181614 0.77177543 0.77356591\n",
      " 0.78207041 0.77429321 0.78777745 0.76668386 0.84518324 0.87830637\n",
      " 0.88485263 0.87506119 0.89844871 0.88513232 0.85933886 0.84708564\n",
      " 0.85072243 0.85592593 0.87931344 0.88406932 0.86459828 0.89889633\n",
      " 0.91859114 0.92575287 0.95255341 0.96083423 0.96564595 0.98970493\n",
      " 0.95943546 0.97605285 0.99764998 1.         0.96676504 0.94046795\n",
      " 0.94119534 0.93923711 0.9451119  0.90891154 0.90303674 0.90566645\n",
      " 0.90723307 0.91036632 0.92871827 0.90790446 0.91629712 0.85704493\n",
      " 0.84563086 0.86012226 0.87964914 0.89604285 0.90326051 0.92418625\n",
      " 0.92670403 0.94348936 0.95093086 0.95003563 0.95350457 0.9528891\n",
      " 0.94242627 0.92761022 0.92159134 0.90874368 0.89232767 0.87529689\n",
      " 0.85902905 0.84352958 0.82825798 0.81281793 0.79720581 0.78169626\n",
      " 0.76660901 0.75214416 0.73834932 0.72517741 0.71256113 0.70046151\n",
      " 0.68887168 0.67780221 0.66725975 0.65723974]\n",
      "21 day output [[0.6477265]]\n",
      "22 day input [0.65427813 0.71218755 0.70284373 0.70670428 0.70860668 0.71884574\n",
      " 0.71034115 0.72841333 0.73484767 0.74766052 0.74833191 0.74849975\n",
      " 0.75504602 0.76237569 0.75426271 0.73177043 0.74911522 0.74917123\n",
      " 0.75084969 0.7564448  0.76181614 0.77177543 0.77356591 0.78207041\n",
      " 0.77429321 0.78777745 0.76668386 0.84518324 0.87830637 0.88485263\n",
      " 0.87506119 0.89844871 0.88513232 0.85933886 0.84708564 0.85072243\n",
      " 0.85592593 0.87931344 0.88406932 0.86459828 0.89889633 0.91859114\n",
      " 0.92575287 0.95255341 0.96083423 0.96564595 0.98970493 0.95943546\n",
      " 0.97605285 0.99764998 1.         0.96676504 0.94046795 0.94119534\n",
      " 0.93923711 0.9451119  0.90891154 0.90303674 0.90566645 0.90723307\n",
      " 0.91036632 0.92871827 0.90790446 0.91629712 0.85704493 0.84563086\n",
      " 0.86012226 0.87964914 0.89604285 0.90326051 0.92418625 0.92670403\n",
      " 0.94348936 0.95093086 0.95003563 0.95350457 0.9528891  0.94242627\n",
      " 0.92761022 0.92159134 0.90874368 0.89232767 0.87529689 0.85902905\n",
      " 0.84352958 0.82825798 0.81281793 0.79720581 0.78169626 0.76660901\n",
      " 0.75214416 0.73834932 0.72517741 0.71256113 0.70046151 0.68887168\n",
      " 0.67780221 0.66725975 0.65723974 0.64772648]\n",
      "22 day output [[0.63870287]]\n",
      "23 day input [0.71218755 0.70284373 0.70670428 0.70860668 0.71884574 0.71034115\n",
      " 0.72841333 0.73484767 0.74766052 0.74833191 0.74849975 0.75504602\n",
      " 0.76237569 0.75426271 0.73177043 0.74911522 0.74917123 0.75084969\n",
      " 0.7564448  0.76181614 0.77177543 0.77356591 0.78207041 0.77429321\n",
      " 0.78777745 0.76668386 0.84518324 0.87830637 0.88485263 0.87506119\n",
      " 0.89844871 0.88513232 0.85933886 0.84708564 0.85072243 0.85592593\n",
      " 0.87931344 0.88406932 0.86459828 0.89889633 0.91859114 0.92575287\n",
      " 0.95255341 0.96083423 0.96564595 0.98970493 0.95943546 0.97605285\n",
      " 0.99764998 1.         0.96676504 0.94046795 0.94119534 0.93923711\n",
      " 0.9451119  0.90891154 0.90303674 0.90566645 0.90723307 0.91036632\n",
      " 0.92871827 0.90790446 0.91629712 0.85704493 0.84563086 0.86012226\n",
      " 0.87964914 0.89604285 0.90326051 0.92418625 0.92670403 0.94348936\n",
      " 0.95093086 0.95003563 0.95350457 0.9528891  0.94242627 0.92761022\n",
      " 0.92159134 0.90874368 0.89232767 0.87529689 0.85902905 0.84352958\n",
      " 0.82825798 0.81281793 0.79720581 0.78169626 0.76660901 0.75214416\n",
      " 0.73834932 0.72517741 0.71256113 0.70046151 0.68887168 0.67780221\n",
      " 0.66725975 0.65723974 0.64772648 0.63870287]\n",
      "23 day output [[0.63015425]]\n",
      "24 day input [0.70284373 0.70670428 0.70860668 0.71884574 0.71034115 0.72841333\n",
      " 0.73484767 0.74766052 0.74833191 0.74849975 0.75504602 0.76237569\n",
      " 0.75426271 0.73177043 0.74911522 0.74917123 0.75084969 0.7564448\n",
      " 0.76181614 0.77177543 0.77356591 0.78207041 0.77429321 0.78777745\n",
      " 0.76668386 0.84518324 0.87830637 0.88485263 0.87506119 0.89844871\n",
      " 0.88513232 0.85933886 0.84708564 0.85072243 0.85592593 0.87931344\n",
      " 0.88406932 0.86459828 0.89889633 0.91859114 0.92575287 0.95255341\n",
      " 0.96083423 0.96564595 0.98970493 0.95943546 0.97605285 0.99764998\n",
      " 1.         0.96676504 0.94046795 0.94119534 0.93923711 0.9451119\n",
      " 0.90891154 0.90303674 0.90566645 0.90723307 0.91036632 0.92871827\n",
      " 0.90790446 0.91629712 0.85704493 0.84563086 0.86012226 0.87964914\n",
      " 0.89604285 0.90326051 0.92418625 0.92670403 0.94348936 0.95093086\n",
      " 0.95003563 0.95350457 0.9528891  0.94242627 0.92761022 0.92159134\n",
      " 0.90874368 0.89232767 0.87529689 0.85902905 0.84352958 0.82825798\n",
      " 0.81281793 0.79720581 0.78169626 0.76660901 0.75214416 0.73834932\n",
      " 0.72517741 0.71256113 0.70046151 0.68887168 0.67780221 0.66725975\n",
      " 0.65723974 0.64772648 0.63870287 0.63015425]\n",
      "24 day output [[0.62207115]]\n",
      "25 day input [0.70670428 0.70860668 0.71884574 0.71034115 0.72841333 0.73484767\n",
      " 0.74766052 0.74833191 0.74849975 0.75504602 0.76237569 0.75426271\n",
      " 0.73177043 0.74911522 0.74917123 0.75084969 0.7564448  0.76181614\n",
      " 0.77177543 0.77356591 0.78207041 0.77429321 0.78777745 0.76668386\n",
      " 0.84518324 0.87830637 0.88485263 0.87506119 0.89844871 0.88513232\n",
      " 0.85933886 0.84708564 0.85072243 0.85592593 0.87931344 0.88406932\n",
      " 0.86459828 0.89889633 0.91859114 0.92575287 0.95255341 0.96083423\n",
      " 0.96564595 0.98970493 0.95943546 0.97605285 0.99764998 1.\n",
      " 0.96676504 0.94046795 0.94119534 0.93923711 0.9451119  0.90891154\n",
      " 0.90303674 0.90566645 0.90723307 0.91036632 0.92871827 0.90790446\n",
      " 0.91629712 0.85704493 0.84563086 0.86012226 0.87964914 0.89604285\n",
      " 0.90326051 0.92418625 0.92670403 0.94348936 0.95093086 0.95003563\n",
      " 0.95350457 0.9528891  0.94242627 0.92761022 0.92159134 0.90874368\n",
      " 0.89232767 0.87529689 0.85902905 0.84352958 0.82825798 0.81281793\n",
      " 0.79720581 0.78169626 0.76660901 0.75214416 0.73834932 0.72517741\n",
      " 0.71256113 0.70046151 0.68887168 0.67780221 0.66725975 0.65723974\n",
      " 0.64772648 0.63870287 0.63015425 0.62207115]\n",
      "25 day output [[0.614447]]\n",
      "26 day input [0.70860668 0.71884574 0.71034115 0.72841333 0.73484767 0.74766052\n",
      " 0.74833191 0.74849975 0.75504602 0.76237569 0.75426271 0.73177043\n",
      " 0.74911522 0.74917123 0.75084969 0.7564448  0.76181614 0.77177543\n",
      " 0.77356591 0.78207041 0.77429321 0.78777745 0.76668386 0.84518324\n",
      " 0.87830637 0.88485263 0.87506119 0.89844871 0.88513232 0.85933886\n",
      " 0.84708564 0.85072243 0.85592593 0.87931344 0.88406932 0.86459828\n",
      " 0.89889633 0.91859114 0.92575287 0.95255341 0.96083423 0.96564595\n",
      " 0.98970493 0.95943546 0.97605285 0.99764998 1.         0.96676504\n",
      " 0.94046795 0.94119534 0.93923711 0.9451119  0.90891154 0.90303674\n",
      " 0.90566645 0.90723307 0.91036632 0.92871827 0.90790446 0.91629712\n",
      " 0.85704493 0.84563086 0.86012226 0.87964914 0.89604285 0.90326051\n",
      " 0.92418625 0.92670403 0.94348936 0.95093086 0.95003563 0.95350457\n",
      " 0.9528891  0.94242627 0.92761022 0.92159134 0.90874368 0.89232767\n",
      " 0.87529689 0.85902905 0.84352958 0.82825798 0.81281793 0.79720581\n",
      " 0.78169626 0.76660901 0.75214416 0.73834932 0.72517741 0.71256113\n",
      " 0.70046151 0.68887168 0.67780221 0.66725975 0.65723974 0.64772648\n",
      " 0.63870287 0.63015425 0.62207115 0.614447  ]\n",
      "26 day output [[0.60727644]]\n",
      "27 day input [0.71884574 0.71034115 0.72841333 0.73484767 0.74766052 0.74833191\n",
      " 0.74849975 0.75504602 0.76237569 0.75426271 0.73177043 0.74911522\n",
      " 0.74917123 0.75084969 0.7564448  0.76181614 0.77177543 0.77356591\n",
      " 0.78207041 0.77429321 0.78777745 0.76668386 0.84518324 0.87830637\n",
      " 0.88485263 0.87506119 0.89844871 0.88513232 0.85933886 0.84708564\n",
      " 0.85072243 0.85592593 0.87931344 0.88406932 0.86459828 0.89889633\n",
      " 0.91859114 0.92575287 0.95255341 0.96083423 0.96564595 0.98970493\n",
      " 0.95943546 0.97605285 0.99764998 1.         0.96676504 0.94046795\n",
      " 0.94119534 0.93923711 0.9451119  0.90891154 0.90303674 0.90566645\n",
      " 0.90723307 0.91036632 0.92871827 0.90790446 0.91629712 0.85704493\n",
      " 0.84563086 0.86012226 0.87964914 0.89604285 0.90326051 0.92418625\n",
      " 0.92670403 0.94348936 0.95093086 0.95003563 0.95350457 0.9528891\n",
      " 0.94242627 0.92761022 0.92159134 0.90874368 0.89232767 0.87529689\n",
      " 0.85902905 0.84352958 0.82825798 0.81281793 0.79720581 0.78169626\n",
      " 0.76660901 0.75214416 0.73834932 0.72517741 0.71256113 0.70046151\n",
      " 0.68887168 0.67780221 0.66725975 0.65723974 0.64772648 0.63870287\n",
      " 0.63015425 0.62207115 0.614447   0.60727644]\n",
      "27 day output [[0.6005515]]\n",
      "28 day input [0.71034115 0.72841333 0.73484767 0.74766052 0.74833191 0.74849975\n",
      " 0.75504602 0.76237569 0.75426271 0.73177043 0.74911522 0.74917123\n",
      " 0.75084969 0.7564448  0.76181614 0.77177543 0.77356591 0.78207041\n",
      " 0.77429321 0.78777745 0.76668386 0.84518324 0.87830637 0.88485263\n",
      " 0.87506119 0.89844871 0.88513232 0.85933886 0.84708564 0.85072243\n",
      " 0.85592593 0.87931344 0.88406932 0.86459828 0.89889633 0.91859114\n",
      " 0.92575287 0.95255341 0.96083423 0.96564595 0.98970493 0.95943546\n",
      " 0.97605285 0.99764998 1.         0.96676504 0.94046795 0.94119534\n",
      " 0.93923711 0.9451119  0.90891154 0.90303674 0.90566645 0.90723307\n",
      " 0.91036632 0.92871827 0.90790446 0.91629712 0.85704493 0.84563086\n",
      " 0.86012226 0.87964914 0.89604285 0.90326051 0.92418625 0.92670403\n",
      " 0.94348936 0.95093086 0.95003563 0.95350457 0.9528891  0.94242627\n",
      " 0.92761022 0.92159134 0.90874368 0.89232767 0.87529689 0.85902905\n",
      " 0.84352958 0.82825798 0.81281793 0.79720581 0.78169626 0.76660901\n",
      " 0.75214416 0.73834932 0.72517741 0.71256113 0.70046151 0.68887168\n",
      " 0.67780221 0.66725975 0.65723974 0.64772648 0.63870287 0.63015425\n",
      " 0.62207115 0.614447   0.60727644 0.60055149]\n",
      "28 day output [[0.5942624]]\n",
      "29 day input [0.72841333 0.73484767 0.74766052 0.74833191 0.74849975 0.75504602\n",
      " 0.76237569 0.75426271 0.73177043 0.74911522 0.74917123 0.75084969\n",
      " 0.7564448  0.76181614 0.77177543 0.77356591 0.78207041 0.77429321\n",
      " 0.78777745 0.76668386 0.84518324 0.87830637 0.88485263 0.87506119\n",
      " 0.89844871 0.88513232 0.85933886 0.84708564 0.85072243 0.85592593\n",
      " 0.87931344 0.88406932 0.86459828 0.89889633 0.91859114 0.92575287\n",
      " 0.95255341 0.96083423 0.96564595 0.98970493 0.95943546 0.97605285\n",
      " 0.99764998 1.         0.96676504 0.94046795 0.94119534 0.93923711\n",
      " 0.9451119  0.90891154 0.90303674 0.90566645 0.90723307 0.91036632\n",
      " 0.92871827 0.90790446 0.91629712 0.85704493 0.84563086 0.86012226\n",
      " 0.87964914 0.89604285 0.90326051 0.92418625 0.92670403 0.94348936\n",
      " 0.95093086 0.95003563 0.95350457 0.9528891  0.94242627 0.92761022\n",
      " 0.92159134 0.90874368 0.89232767 0.87529689 0.85902905 0.84352958\n",
      " 0.82825798 0.81281793 0.79720581 0.78169626 0.76660901 0.75214416\n",
      " 0.73834932 0.72517741 0.71256113 0.70046151 0.68887168 0.67780221\n",
      " 0.66725975 0.65723974 0.64772648 0.63870287 0.63015425 0.62207115\n",
      " 0.614447   0.60727644 0.60055149 0.59426242]\n",
      "29 day output [[0.5883974]]\n",
      "[[0.9276102185249329], [0.9215913414955139], [0.908743679523468], [0.8923276662826538], [0.8752968907356262], [0.8590290546417236], [0.8435295820236206], [0.8282579779624939], [0.8128179311752319], [0.7972058057785034], [0.7816962599754333], [0.7666090130805969], [0.7521441578865051], [0.7383493185043335], [0.7251774072647095], [0.7125611305236816], [0.7004615068435669], [0.6888716816902161], [0.6778022050857544], [0.6672597527503967], [0.6572397351264954], [0.6477264761924744], [0.6387028694152832], [0.6301542520523071], [0.6220711469650269], [0.6144469976425171], [0.607276439666748], [0.6005514860153198], [0.594262421131134], [0.5883973836898804]]\n"
     ]
    }
   ],
   "source": [
    "from numpy import array\n",
    "\n",
    "lst_output=[]\n",
    "n_steps=100\n",
    "i=0\n",
    "while(i<30):\n",
    "    \n",
    "    if(len(temp_input)>100):\n",
    "        x_input=np.array(temp_input[1:])\n",
    "        print(\"{} day input {}\".format(i,x_input))\n",
    "        x_input=x_input.reshape(1,-1)\n",
    "        x_input=x_input.reshape((1,n_steps,1))\n",
    "        \n",
    "        yhat=model.predict(x_input,verbose=0)\n",
    "        print(\"{} day output {}\".format(i,yhat))\n",
    "        temp_input.extend(yhat[0].tolist())\n",
    "        temp_input=temp_input[1:]\n",
    "        lst_output.extend(yhat.tolist())\n",
    "        i=i+1\n",
    "    else:\n",
    "        x_input=x_input.reshape((1,n_steps,1))\n",
    "        yhat=model.predict(x_input,verbose=0)\n",
    "        print(yhat[0])\n",
    "        temp_input.extend(yhat[0].tolist())\n",
    "        print(len(temp_input))\n",
    "        lst_output.extend(yhat.tolist())\n",
    "        i=i+1\n",
    "print(lst_output)"
   ]
  },
  {
   "cell_type": "code",
   "execution_count": 86,
   "id": "fd440857-76eb-4e27-ad81-b60e17882012",
   "metadata": {},
   "outputs": [],
   "source": [
    "day_new=np.arange(1,101)\n",
    "day_pred=np.arange(101,131)"
   ]
  },
  {
   "cell_type": "code",
   "execution_count": 88,
   "id": "217a2027-5614-4410-8850-3cb1e3a05a75",
   "metadata": {},
   "outputs": [],
   "source": [
    "import matplotlib.pyplot as plt"
   ]
  },
  {
   "cell_type": "code",
   "execution_count": 90,
   "id": "9d7b87c3-1f39-4051-840b-1e760caa8d79",
   "metadata": {},
   "outputs": [
    {
     "data": {
      "text/plain": [
       "1168"
      ]
     },
     "execution_count": 90,
     "metadata": {},
     "output_type": "execute_result"
    }
   ],
   "source": [
    "len(df1)"
   ]
  },
  {
   "cell_type": "code",
   "execution_count": 92,
   "id": "ed42967e-60a3-44dc-a2ca-f3213c84ecee",
   "metadata": {},
   "outputs": [],
   "source": [
    "df3=df1.tolist()\n",
    "df3.extend(lst_output)"
   ]
  },
  {
   "cell_type": "code",
   "execution_count": 98,
   "id": "9c34e3cd-4a56-4a70-97d9-42d6e194b768",
   "metadata": {},
   "outputs": [
    {
     "data": {
      "text/plain": [
       "[<matplotlib.lines.Line2D at 0x179a921dc30>]"
      ]
     },
     "execution_count": 98,
     "metadata": {},
     "output_type": "execute_result"
    },
    {
     "data": {
      "image/png": "[encoded data removed]",
      "text/plain": [
       "<Figure size 640x480 with 1 Axes>"
      ]
     },
     "metadata": {},
     "output_type": "display_data"
    }
   ],
   "source": [
    "plt.plot(day_new,scaler.inverse_transform(df1[1068:]))\n",
    "plt.plot(day_pred,scaler.inverse_transform(lst_output))"
   ]
  },
  {
   "cell_type": "code",
   "execution_count": 100,
   "id": "097f4905-8b97-48d4-a0ca-1e09a6401fa7",
   "metadata": {},
   "outputs": [
    {
     "data": {
      "text/plain": [
       "[<matplotlib.lines.Line2D at 0x179a92887f0>]"
      ]
     },
     "execution_count": 100,
     "metadata": {},
     "output_type": "execute_result"
    },
    {
     "data": {
      "image/png": "[encoded data removed]",
      "text/plain": [
       "<Figure size 640x480 with 1 Axes>"
      ]
     },
     "metadata": {},
     "output_type": "display_data"
    }
   ],
   "source": [
    "plt.plot(df3[1000:])"
   ]
  },
  {
   "cell_type": "code",
   "execution_count": null,
   "id": "30388483-754f-4952-a23e-c693999d87d5",
   "metadata": {},
   "outputs": [],
   "source": []
  }
 ],
 "metadata": {
  "kernelspec": {
   "display_name": "Python 3 (ipykernel)",
   "language": "python",
   "name": "python3"
  },
  "language_info": {
   "codemirror_mode": {
    "name": "ipython",
    "version": 3
   },
   "file_extension": ".py",
   "mimetype": "text/x-python",
   "name": "python",
   "nbconvert_exporter": "python",
   "pygments_lexer": "ipython3",
   "version": "3.10.9"
  }
 },
 "nbformat": 4,
 "nbformat_minor": 5
}
